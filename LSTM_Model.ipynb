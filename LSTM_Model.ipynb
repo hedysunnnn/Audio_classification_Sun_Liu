{
  "cells": [
    {
      "cell_type": "markdown",
      "id": "b1c63d47",
      "metadata": {
        "papermill": {
          "duration": 0.008921,
          "end_time": "2023-07-01T03:03:13.362889",
          "exception": false,
          "start_time": "2023-07-01T03:03:13.353968",
          "status": "completed"
        },
        "tags": [],
        "id": "b1c63d47"
      },
      "source": [
        "# Gathering data"
      ]
    },
    {
      "cell_type": "code",
      "execution_count": null,
      "id": "2a78eaca",
      "metadata": {
        "_cell_guid": "b1076dfc-b9ad-4769-8c92-a6c4dae69d19",
        "_uuid": "8f2839f25d086af736a60e9eeb907d3b93b6e0e5",
        "execution": {
          "iopub.execute_input": "2023-07-01T03:03:13.387121Z",
          "iopub.status.busy": "2023-07-01T03:03:13.386276Z",
          "iopub.status.idle": "2023-07-01T03:03:13.399253Z",
          "shell.execute_reply": "2023-07-01T03:03:13.398283Z"
        },
        "papermill": {
          "duration": 0.028664,
          "end_time": "2023-07-01T03:03:13.401661",
          "exception": false,
          "start_time": "2023-07-01T03:03:13.372997",
          "status": "completed"
        },
        "tags": [],
        "id": "2a78eaca"
      },
      "outputs": [],
      "source": [
        "import os\n",
        "import pandas as pd\n",
        "import numpy as np\n",
        "import librosa\n",
        "import matplotlib.pyplot as plt\n",
        "from IPython.display import Audio"
      ]
    },
    {
      "cell_type": "code",
      "execution_count": null,
      "id": "aad7fd0b",
      "metadata": {
        "execution": {
          "iopub.execute_input": "2023-07-01T03:03:13.421818Z",
          "iopub.status.busy": "2023-07-01T03:03:13.421212Z",
          "iopub.status.idle": "2023-07-01T03:03:13.426516Z",
          "shell.execute_reply": "2023-07-01T03:03:13.425557Z"
        },
        "papermill": {
          "duration": 0.017851,
          "end_time": "2023-07-01T03:03:13.428701",
          "exception": false,
          "start_time": "2023-07-01T03:03:13.410850",
          "status": "completed"
        },
        "tags": [],
        "colab": {
          "base_uri": "https://localhost:8080/"
        },
        "id": "aad7fd0b",
        "outputId": "bbbff903-ce9c-4bfe-e50d-54b57d231ca9"
      },
      "outputs": [
        {
          "output_type": "stream",
          "name": "stdout",
          "text": [
            "Mounted at /content/drive\n"
          ]
        }
      ],
      "source": [
        "from google.colab import drive\n",
        "drive.mount('/content/drive')\n",
        "\n",
        "RAV = '/content/drive/MyDrive/Vision_Project/audio_speech_actors_01-24/'"
      ]
    },
    {
      "cell_type": "code",
      "source": [
        "dir_list = os.listdir(RAV)\n",
        "\n",
        "emotion = []\n",
        "gender = []\n",
        "path = []\n",
        "feature = []\n",
        "for i in dir_list:\n",
        "    fname = os.listdir(RAV + i)\n",
        "    for f in fname:\n",
        "        part = f.split('.')[0].split('-')\n",
        "        emotion.append(int(part[2]))\n",
        "        temp = int(part[6])\n",
        "        if temp%2 == 0:\n",
        "            temp = \"female\"\n",
        "        else:\n",
        "            temp = \"male\"\n",
        "        gender.append(temp)\n",
        "        path.append(RAV + i + '/' + f)\n",
        "\n",
        "RAV_df = pd.DataFrame(emotion)\n",
        "RAV_df = RAV_df.replace({1:'neutral', 2:'neutral', 3:'happy', 4:'sad', 5:'angry', 6:'fear', 7:'disgust', 8:'surprise'})\n",
        "RAV_df = pd.concat([pd.DataFrame(gender),RAV_df],axis=1)\n",
        "RAV_df.columns = ['gender','emotion']\n",
        "RAV_df['labels'] =RAV_df.gender + '_' + RAV_df.emotion\n",
        "RAV_df['source'] = 'RAVDESS'\n",
        "RAV_df = pd.concat([RAV_df,pd.DataFrame(path, columns = ['path'])],axis=1)\n",
        "RAV_df = RAV_df.drop(['gender'], axis=1)\n",
        "\n",
        "RAV_df.tail()"
      ],
      "metadata": {
        "colab": {
          "base_uri": "https://localhost:8080/",
          "height": 206
        },
        "id": "cTC1cXgsST0F",
        "outputId": "2f34621c-2545-4e4a-dca4-5c2af8c1e55d"
      },
      "id": "cTC1cXgsST0F",
      "execution_count": null,
      "outputs": [
        {
          "output_type": "execute_result",
          "data": {
            "text/plain": [
              "       emotion         labels   source  \\\n",
              "1435   disgust   male_disgust  RAVDESS   \n",
              "1436  surprise  male_surprise  RAVDESS   \n",
              "1437  surprise  male_surprise  RAVDESS   \n",
              "1438   disgust   male_disgust  RAVDESS   \n",
              "1439   disgust   male_disgust  RAVDESS   \n",
              "\n",
              "                                                   path  \n",
              "1435  /content/drive/MyDrive/Vision_Project/audio_sp...  \n",
              "1436  /content/drive/MyDrive/Vision_Project/audio_sp...  \n",
              "1437  /content/drive/MyDrive/Vision_Project/audio_sp...  \n",
              "1438  /content/drive/MyDrive/Vision_Project/audio_sp...  \n",
              "1439  /content/drive/MyDrive/Vision_Project/audio_sp...  "
            ],
            "text/html": [
              "\n",
              "  <div id=\"df-ce32b2bc-f5a2-4077-8d1c-ba08627ca755\" class=\"colab-df-container\">\n",
              "    <div>\n",
              "<style scoped>\n",
              "    .dataframe tbody tr th:only-of-type {\n",
              "        vertical-align: middle;\n",
              "    }\n",
              "\n",
              "    .dataframe tbody tr th {\n",
              "        vertical-align: top;\n",
              "    }\n",
              "\n",
              "    .dataframe thead th {\n",
              "        text-align: right;\n",
              "    }\n",
              "</style>\n",
              "<table border=\"1\" class=\"dataframe\">\n",
              "  <thead>\n",
              "    <tr style=\"text-align: right;\">\n",
              "      <th></th>\n",
              "      <th>emotion</th>\n",
              "      <th>labels</th>\n",
              "      <th>source</th>\n",
              "      <th>path</th>\n",
              "    </tr>\n",
              "  </thead>\n",
              "  <tbody>\n",
              "    <tr>\n",
              "      <th>1435</th>\n",
              "      <td>disgust</td>\n",
              "      <td>male_disgust</td>\n",
              "      <td>RAVDESS</td>\n",
              "      <td>/content/drive/MyDrive/Vision_Project/audio_sp...</td>\n",
              "    </tr>\n",
              "    <tr>\n",
              "      <th>1436</th>\n",
              "      <td>surprise</td>\n",
              "      <td>male_surprise</td>\n",
              "      <td>RAVDESS</td>\n",
              "      <td>/content/drive/MyDrive/Vision_Project/audio_sp...</td>\n",
              "    </tr>\n",
              "    <tr>\n",
              "      <th>1437</th>\n",
              "      <td>surprise</td>\n",
              "      <td>male_surprise</td>\n",
              "      <td>RAVDESS</td>\n",
              "      <td>/content/drive/MyDrive/Vision_Project/audio_sp...</td>\n",
              "    </tr>\n",
              "    <tr>\n",
              "      <th>1438</th>\n",
              "      <td>disgust</td>\n",
              "      <td>male_disgust</td>\n",
              "      <td>RAVDESS</td>\n",
              "      <td>/content/drive/MyDrive/Vision_Project/audio_sp...</td>\n",
              "    </tr>\n",
              "    <tr>\n",
              "      <th>1439</th>\n",
              "      <td>disgust</td>\n",
              "      <td>male_disgust</td>\n",
              "      <td>RAVDESS</td>\n",
              "      <td>/content/drive/MyDrive/Vision_Project/audio_sp...</td>\n",
              "    </tr>\n",
              "  </tbody>\n",
              "</table>\n",
              "</div>\n",
              "    <div class=\"colab-df-buttons\">\n",
              "\n",
              "  <div class=\"colab-df-container\">\n",
              "    <button class=\"colab-df-convert\" onclick=\"convertToInteractive('df-ce32b2bc-f5a2-4077-8d1c-ba08627ca755')\"\n",
              "            title=\"Convert this dataframe to an interactive table.\"\n",
              "            style=\"display:none;\">\n",
              "\n",
              "  <svg xmlns=\"http://www.w3.org/2000/svg\" height=\"24px\" viewBox=\"0 -960 960 960\">\n",
              "    <path d=\"M120-120v-720h720v720H120Zm60-500h600v-160H180v160Zm220 220h160v-160H400v160Zm0 220h160v-160H400v160ZM180-400h160v-160H180v160Zm440 0h160v-160H620v160ZM180-180h160v-160H180v160Zm440 0h160v-160H620v160Z\"/>\n",
              "  </svg>\n",
              "    </button>\n",
              "\n",
              "  <style>\n",
              "    .colab-df-container {\n",
              "      display:flex;\n",
              "      gap: 12px;\n",
              "    }\n",
              "\n",
              "    .colab-df-convert {\n",
              "      background-color: #E8F0FE;\n",
              "      border: none;\n",
              "      border-radius: 50%;\n",
              "      cursor: pointer;\n",
              "      display: none;\n",
              "      fill: #1967D2;\n",
              "      height: 32px;\n",
              "      padding: 0 0 0 0;\n",
              "      width: 32px;\n",
              "    }\n",
              "\n",
              "    .colab-df-convert:hover {\n",
              "      background-color: #E2EBFA;\n",
              "      box-shadow: 0px 1px 2px rgba(60, 64, 67, 0.3), 0px 1px 3px 1px rgba(60, 64, 67, 0.15);\n",
              "      fill: #174EA6;\n",
              "    }\n",
              "\n",
              "    .colab-df-buttons div {\n",
              "      margin-bottom: 4px;\n",
              "    }\n",
              "\n",
              "    [theme=dark] .colab-df-convert {\n",
              "      background-color: #3B4455;\n",
              "      fill: #D2E3FC;\n",
              "    }\n",
              "\n",
              "    [theme=dark] .colab-df-convert:hover {\n",
              "      background-color: #434B5C;\n",
              "      box-shadow: 0px 1px 3px 1px rgba(0, 0, 0, 0.15);\n",
              "      filter: drop-shadow(0px 1px 2px rgba(0, 0, 0, 0.3));\n",
              "      fill: #FFFFFF;\n",
              "    }\n",
              "  </style>\n",
              "\n",
              "    <script>\n",
              "      const buttonEl =\n",
              "        document.querySelector('#df-ce32b2bc-f5a2-4077-8d1c-ba08627ca755 button.colab-df-convert');\n",
              "      buttonEl.style.display =\n",
              "        google.colab.kernel.accessAllowed ? 'block' : 'none';\n",
              "\n",
              "      async function convertToInteractive(key) {\n",
              "        const element = document.querySelector('#df-ce32b2bc-f5a2-4077-8d1c-ba08627ca755');\n",
              "        const dataTable =\n",
              "          await google.colab.kernel.invokeFunction('convertToInteractive',\n",
              "                                                    [key], {});\n",
              "        if (!dataTable) return;\n",
              "\n",
              "        const docLinkHtml = 'Like what you see? Visit the ' +\n",
              "          '<a target=\"_blank\" href=https://colab.research.google.com/notebooks/data_table.ipynb>data table notebook</a>'\n",
              "          + ' to learn more about interactive tables.';\n",
              "        element.innerHTML = '';\n",
              "        dataTable['output_type'] = 'display_data';\n",
              "        await google.colab.output.renderOutput(dataTable, element);\n",
              "        const docLink = document.createElement('div');\n",
              "        docLink.innerHTML = docLinkHtml;\n",
              "        element.appendChild(docLink);\n",
              "      }\n",
              "    </script>\n",
              "  </div>\n",
              "\n",
              "\n",
              "<div id=\"df-ecd301e0-cf92-430b-902a-72abf1ff9e98\">\n",
              "  <button class=\"colab-df-quickchart\" onclick=\"quickchart('df-ecd301e0-cf92-430b-902a-72abf1ff9e98')\"\n",
              "            title=\"Suggest charts\"\n",
              "            style=\"display:none;\">\n",
              "\n",
              "<svg xmlns=\"http://www.w3.org/2000/svg\" height=\"24px\"viewBox=\"0 0 24 24\"\n",
              "     width=\"24px\">\n",
              "    <g>\n",
              "        <path d=\"M19 3H5c-1.1 0-2 .9-2 2v14c0 1.1.9 2 2 2h14c1.1 0 2-.9 2-2V5c0-1.1-.9-2-2-2zM9 17H7v-7h2v7zm4 0h-2V7h2v10zm4 0h-2v-4h2v4z\"/>\n",
              "    </g>\n",
              "</svg>\n",
              "  </button>\n",
              "\n",
              "<style>\n",
              "  .colab-df-quickchart {\n",
              "      --bg-color: #E8F0FE;\n",
              "      --fill-color: #1967D2;\n",
              "      --hover-bg-color: #E2EBFA;\n",
              "      --hover-fill-color: #174EA6;\n",
              "      --disabled-fill-color: #AAA;\n",
              "      --disabled-bg-color: #DDD;\n",
              "  }\n",
              "\n",
              "  [theme=dark] .colab-df-quickchart {\n",
              "      --bg-color: #3B4455;\n",
              "      --fill-color: #D2E3FC;\n",
              "      --hover-bg-color: #434B5C;\n",
              "      --hover-fill-color: #FFFFFF;\n",
              "      --disabled-bg-color: #3B4455;\n",
              "      --disabled-fill-color: #666;\n",
              "  }\n",
              "\n",
              "  .colab-df-quickchart {\n",
              "    background-color: var(--bg-color);\n",
              "    border: none;\n",
              "    border-radius: 50%;\n",
              "    cursor: pointer;\n",
              "    display: none;\n",
              "    fill: var(--fill-color);\n",
              "    height: 32px;\n",
              "    padding: 0;\n",
              "    width: 32px;\n",
              "  }\n",
              "\n",
              "  .colab-df-quickchart:hover {\n",
              "    background-color: var(--hover-bg-color);\n",
              "    box-shadow: 0 1px 2px rgba(60, 64, 67, 0.3), 0 1px 3px 1px rgba(60, 64, 67, 0.15);\n",
              "    fill: var(--button-hover-fill-color);\n",
              "  }\n",
              "\n",
              "  .colab-df-quickchart-complete:disabled,\n",
              "  .colab-df-quickchart-complete:disabled:hover {\n",
              "    background-color: var(--disabled-bg-color);\n",
              "    fill: var(--disabled-fill-color);\n",
              "    box-shadow: none;\n",
              "  }\n",
              "\n",
              "  .colab-df-spinner {\n",
              "    border: 2px solid var(--fill-color);\n",
              "    border-color: transparent;\n",
              "    border-bottom-color: var(--fill-color);\n",
              "    animation:\n",
              "      spin 1s steps(1) infinite;\n",
              "  }\n",
              "\n",
              "  @keyframes spin {\n",
              "    0% {\n",
              "      border-color: transparent;\n",
              "      border-bottom-color: var(--fill-color);\n",
              "      border-left-color: var(--fill-color);\n",
              "    }\n",
              "    20% {\n",
              "      border-color: transparent;\n",
              "      border-left-color: var(--fill-color);\n",
              "      border-top-color: var(--fill-color);\n",
              "    }\n",
              "    30% {\n",
              "      border-color: transparent;\n",
              "      border-left-color: var(--fill-color);\n",
              "      border-top-color: var(--fill-color);\n",
              "      border-right-color: var(--fill-color);\n",
              "    }\n",
              "    40% {\n",
              "      border-color: transparent;\n",
              "      border-right-color: var(--fill-color);\n",
              "      border-top-color: var(--fill-color);\n",
              "    }\n",
              "    60% {\n",
              "      border-color: transparent;\n",
              "      border-right-color: var(--fill-color);\n",
              "    }\n",
              "    80% {\n",
              "      border-color: transparent;\n",
              "      border-right-color: var(--fill-color);\n",
              "      border-bottom-color: var(--fill-color);\n",
              "    }\n",
              "    90% {\n",
              "      border-color: transparent;\n",
              "      border-bottom-color: var(--fill-color);\n",
              "    }\n",
              "  }\n",
              "</style>\n",
              "\n",
              "  <script>\n",
              "    async function quickchart(key) {\n",
              "      const quickchartButtonEl =\n",
              "        document.querySelector('#' + key + ' button');\n",
              "      quickchartButtonEl.disabled = true;  // To prevent multiple clicks.\n",
              "      quickchartButtonEl.classList.add('colab-df-spinner');\n",
              "      try {\n",
              "        const charts = await google.colab.kernel.invokeFunction(\n",
              "            'suggestCharts', [key], {});\n",
              "      } catch (error) {\n",
              "        console.error('Error during call to suggestCharts:', error);\n",
              "      }\n",
              "      quickchartButtonEl.classList.remove('colab-df-spinner');\n",
              "      quickchartButtonEl.classList.add('colab-df-quickchart-complete');\n",
              "    }\n",
              "    (() => {\n",
              "      let quickchartButtonEl =\n",
              "        document.querySelector('#df-ecd301e0-cf92-430b-902a-72abf1ff9e98 button');\n",
              "      quickchartButtonEl.style.display =\n",
              "        google.colab.kernel.accessAllowed ? 'block' : 'none';\n",
              "    })();\n",
              "  </script>\n",
              "</div>\n",
              "    </div>\n",
              "  </div>\n"
            ],
            "application/vnd.google.colaboratory.intrinsic+json": {
              "type": "dataframe",
              "summary": "{\n  \"name\": \"RAV_df\",\n  \"rows\": 5,\n  \"fields\": [\n    {\n      \"column\": \"emotion\",\n      \"properties\": {\n        \"dtype\": \"category\",\n        \"num_unique_values\": 2,\n        \"samples\": [\n          \"surprise\",\n          \"disgust\"\n        ],\n        \"semantic_type\": \"\",\n        \"description\": \"\"\n      }\n    },\n    {\n      \"column\": \"labels\",\n      \"properties\": {\n        \"dtype\": \"category\",\n        \"num_unique_values\": 2,\n        \"samples\": [\n          \"male_surprise\",\n          \"male_disgust\"\n        ],\n        \"semantic_type\": \"\",\n        \"description\": \"\"\n      }\n    },\n    {\n      \"column\": \"source\",\n      \"properties\": {\n        \"dtype\": \"category\",\n        \"num_unique_values\": 1,\n        \"samples\": [\n          \"RAVDESS\"\n        ],\n        \"semantic_type\": \"\",\n        \"description\": \"\"\n      }\n    },\n    {\n      \"column\": \"path\",\n      \"properties\": {\n        \"dtype\": \"string\",\n        \"num_unique_values\": 5,\n        \"samples\": [\n          \"/content/drive/MyDrive/Vision_Project/audio_speech_actors_01-24/Actor_01/03-01-08-01-02-01-01.wav\"\n        ],\n        \"semantic_type\": \"\",\n        \"description\": \"\"\n      }\n    }\n  ]\n}"
            }
          },
          "metadata": {},
          "execution_count": 3
        }
      ]
    },
    {
      "cell_type": "markdown",
      "id": "0f6aa718",
      "metadata": {
        "papermill": {
          "duration": 0.016985,
          "end_time": "2023-07-01T03:03:25.452765",
          "exception": false,
          "start_time": "2023-07-01T03:03:25.435780",
          "status": "completed"
        },
        "tags": [],
        "id": "0f6aa718"
      },
      "source": [
        "# Preprocess\n",
        "\n",
        "The following steps will be followed to preprocess the audio:\n",
        "\n",
        "1. Get an array of samples\n",
        "2. Trim the silence  \n",
        "3. Padding for equal length"
      ]
    },
    {
      "cell_type": "code",
      "execution_count": null,
      "id": "ec05c709",
      "metadata": {
        "execution": {
          "iopub.execute_input": "2023-07-01T03:03:25.488618Z",
          "iopub.status.busy": "2023-07-01T03:03:25.488062Z",
          "iopub.status.idle": "2023-07-01T03:03:25.504054Z",
          "shell.execute_reply": "2023-07-01T03:03:25.502958Z"
        },
        "papermill": {
          "duration": 0.037295,
          "end_time": "2023-07-01T03:03:25.506950",
          "exception": false,
          "start_time": "2023-07-01T03:03:25.469655",
          "status": "completed"
        },
        "tags": [],
        "colab": {
          "base_uri": "https://localhost:8080/"
        },
        "id": "ec05c709",
        "outputId": "ad35db32-534e-4628-f9c3-d2ab9a856500"
      },
      "outputs": [
        {
          "output_type": "stream",
          "name": "stdout",
          "text": [
            "Collecting pydub\n",
            "  Downloading pydub-0.25.1-py2.py3-none-any.whl (32 kB)\n",
            "Installing collected packages: pydub\n",
            "Successfully installed pydub-0.25.1\n"
          ]
        }
      ],
      "source": [
        "!pip install pydub\n",
        "from pydub import AudioSegment, effects"
      ]
    },
    {
      "cell_type": "code",
      "execution_count": null,
      "id": "c0153466",
      "metadata": {
        "execution": {
          "iopub.execute_input": "2023-07-01T03:03:25.542283Z",
          "iopub.status.busy": "2023-07-01T03:03:25.541964Z",
          "iopub.status.idle": "2023-07-01T03:03:25.548786Z",
          "shell.execute_reply": "2023-07-01T03:03:25.547474Z"
        },
        "papermill": {
          "duration": 0.02737,
          "end_time": "2023-07-01T03:03:25.550907",
          "exception": false,
          "start_time": "2023-07-01T03:03:25.523537",
          "status": "completed"
        },
        "tags": [],
        "id": "c0153466"
      },
      "outputs": [],
      "source": [
        "def preprocess_audio(path):\n",
        "    _, sr = librosa.load(path)\n",
        "    raw_audio = AudioSegment.from_file(path)\n",
        "\n",
        "    samples = np.array(raw_audio.get_array_of_samples(), dtype='float32')\n",
        "    trimmed, _ = librosa.effects.trim(samples, top_db=25)\n",
        "    padded = np.pad(trimmed, (0, 180000-len(trimmed)), 'constant')\n",
        "    return padded, sr"
      ]
    },
    {
      "cell_type": "code",
      "execution_count": null,
      "id": "91cf6288",
      "metadata": {
        "execution": {
          "iopub.execute_input": "2023-07-01T03:03:25.586722Z",
          "iopub.status.busy": "2023-07-01T03:03:25.586311Z",
          "iopub.status.idle": "2023-07-01T03:03:25.592575Z",
          "shell.execute_reply": "2023-07-01T03:03:25.591268Z"
        },
        "papermill": {
          "duration": 0.027937,
          "end_time": "2023-07-01T03:03:25.595371",
          "exception": false,
          "start_time": "2023-07-01T03:03:25.567434",
          "status": "completed"
        },
        "tags": [],
        "id": "91cf6288"
      },
      "outputs": [],
      "source": [
        "emotion_dic = {\n",
        "    'neutral' : 0,\n",
        "    'happy'   : 1,\n",
        "    'sad'     : 2,\n",
        "    'angry'   : 3,\n",
        "    'fear'    : 4,\n",
        "    'disgust' : 5,\n",
        "    'surprise': 6\n",
        "}\n",
        "\n",
        "def encode(label):\n",
        "    return emotion_dic.get(label)"
      ]
    },
    {
      "cell_type": "markdown",
      "id": "ac298d16",
      "metadata": {
        "papermill": {
          "duration": 0.018257,
          "end_time": "2023-07-01T03:03:25.632476",
          "exception": false,
          "start_time": "2023-07-01T03:03:25.614219",
          "status": "completed"
        },
        "tags": [],
        "id": "ac298d16"
      },
      "source": [
        "# Extract features\n",
        "\n",
        "We will only extract these features:\n",
        "\n",
        "1. Mel-Frequency Cepstral Coefficients: captures the shape of the spectral envelope of a signal\n",
        "2. Zero Crossing Rate: captures the number of times a signal changes sign per second\n",
        "3. Root Mean Square Energy: captures the root mean square amplitude of the audio signal"
      ]
    },
    {
      "cell_type": "code",
      "execution_count": null,
      "id": "b86e5275",
      "metadata": {
        "execution": {
          "iopub.execute_input": "2023-07-01T03:03:25.669906Z",
          "iopub.status.busy": "2023-07-01T03:03:25.669554Z",
          "iopub.status.idle": "2023-07-01T03:08:03.935686Z",
          "shell.execute_reply": "2023-07-01T03:08:03.933395Z"
        },
        "papermill": {
          "duration": 278.291383,
          "end_time": "2023-07-01T03:08:03.941532",
          "exception": false,
          "start_time": "2023-07-01T03:03:25.650149",
          "status": "completed"
        },
        "tags": [],
        "colab": {
          "base_uri": "https://localhost:8080/"
        },
        "id": "b86e5275",
        "outputId": "21507b77-b5fd-4044-b04e-f75724533e91"
      },
      "outputs": [
        {
          "output_type": "stream",
          "name": "stdout",
          "text": [
            "Failed for path: /content/drive/MyDrive/Vision_Project/audio_speech_actors_01-24/Actor_20/03-01-06-01-01-02-20.wav\n",
            "Failed for path: /content/drive/MyDrive/Vision_Project/audio_speech_actors_01-24/Actor_05/03-01-02-01-02-02-05.wav\n"
          ]
        }
      ],
      "source": [
        "zcr_list = []\n",
        "rms_list = []\n",
        "mfccs_list = []\n",
        "emotion_list = []\n",
        "\n",
        "FRAME_LENGTH = 2048\n",
        "HOP_LENGTH = 512\n",
        "\n",
        "for row in RAV_df.itertuples(index=False):\n",
        "    try:\n",
        "        y, sr = preprocess_audio(row.path)\n",
        "\n",
        "        zcr = librosa.feature.zero_crossing_rate(y, frame_length=FRAME_LENGTH, hop_length=HOP_LENGTH)\n",
        "        rms = librosa.feature.rms(y=y, frame_length=FRAME_LENGTH, hop_length=HOP_LENGTH)\n",
        "        mfccs = librosa.feature.mfcc(y=y, sr=sr, n_mfcc=13, hop_length=HOP_LENGTH)\n",
        "\n",
        "        zcr_list.append(zcr)\n",
        "        rms_list.append(rms)\n",
        "        mfccs_list.append(mfccs)\n",
        "\n",
        "        emotion_list.append(encode(row.emotion))\n",
        "    except:\n",
        "        print(f\"Failed for path: {row.path}\")"
      ]
    },
    {
      "cell_type": "code",
      "source": [
        "print(len(zcr_list))\n",
        "print(len(rms_list))\n",
        "print(len(mfccs_list))\n",
        "print(len(emotion_list))"
      ],
      "metadata": {
        "colab": {
          "base_uri": "https://localhost:8080/"
        },
        "id": "GSmtjWq6kWT_",
        "outputId": "8ec14dd3-4766-4a5c-d9ad-5c7a8cf53fe4"
      },
      "id": "GSmtjWq6kWT_",
      "execution_count": null,
      "outputs": [
        {
          "output_type": "stream",
          "name": "stdout",
          "text": [
            "1438\n",
            "1438\n",
            "1438\n",
            "1438\n"
          ]
        }
      ]
    },
    {
      "cell_type": "code",
      "execution_count": null,
      "id": "f0e5246c",
      "metadata": {
        "execution": {
          "iopub.execute_input": "2023-07-01T03:08:04.028214Z",
          "iopub.status.busy": "2023-07-01T03:08:04.027294Z",
          "iopub.status.idle": "2023-07-01T03:08:04.149854Z",
          "shell.execute_reply": "2023-07-01T03:08:04.148699Z"
        },
        "papermill": {
          "duration": 0.165006,
          "end_time": "2023-07-01T03:08:04.152760",
          "exception": false,
          "start_time": "2023-07-01T03:08:03.987754",
          "status": "completed"
        },
        "tags": [],
        "id": "f0e5246c"
      },
      "outputs": [],
      "source": [
        "X = np.concatenate((\n",
        "    np.swapaxes(zcr_list, 1, 2),\n",
        "    np.swapaxes(rms_list, 1, 2),\n",
        "    np.swapaxes(mfccs_list, 1, 2)),\n",
        "    axis=2\n",
        ")\n",
        "X = X.astype('float32')\n",
        "\n",
        "y = np.asarray(emotion_list)\n",
        "y = np.expand_dims(y, axis=1).astype('int8')"
      ]
    },
    {
      "cell_type": "code",
      "source": [
        "print(X.shape)\n",
        "print(y.shape)"
      ],
      "metadata": {
        "colab": {
          "base_uri": "https://localhost:8080/"
        },
        "id": "6iA0kteDk1Sn",
        "outputId": "62d27d03-a2d3-404d-e82d-73b7bad2be03"
      },
      "id": "6iA0kteDk1Sn",
      "execution_count": null,
      "outputs": [
        {
          "output_type": "stream",
          "name": "stdout",
          "text": [
            "(1438, 352, 15)\n",
            "(1438, 1)\n"
          ]
        }
      ]
    },
    {
      "cell_type": "markdown",
      "id": "df8c29c4",
      "metadata": {
        "papermill": {
          "duration": 0.017349,
          "end_time": "2023-07-01T03:08:04.188303",
          "exception": false,
          "start_time": "2023-07-01T03:08:04.170954",
          "status": "completed"
        },
        "tags": [],
        "id": "df8c29c4"
      },
      "source": [
        "# Build a LSTM\n"
      ]
    },
    {
      "cell_type": "code",
      "execution_count": null,
      "id": "60bb838b",
      "metadata": {
        "execution": {
          "iopub.execute_input": "2023-07-01T03:08:04.225894Z",
          "iopub.status.busy": "2023-07-01T03:08:04.225312Z",
          "iopub.status.idle": "2023-07-01T03:08:12.319544Z",
          "shell.execute_reply": "2023-07-01T03:08:12.318264Z"
        },
        "papermill": {
          "duration": 8.115499,
          "end_time": "2023-07-01T03:08:12.322268",
          "exception": false,
          "start_time": "2023-07-01T03:08:04.206769",
          "status": "completed"
        },
        "tags": [],
        "id": "60bb838b"
      },
      "outputs": [],
      "source": [
        "from sklearn.model_selection import train_test_split\n",
        "from tensorflow.keras.utils import to_categorical"
      ]
    },
    {
      "cell_type": "code",
      "execution_count": null,
      "id": "9881b01f",
      "metadata": {
        "execution": {
          "iopub.execute_input": "2023-07-01T03:08:12.359642Z",
          "iopub.status.busy": "2023-07-01T03:08:12.358874Z",
          "iopub.status.idle": "2023-07-01T03:08:12.393788Z",
          "shell.execute_reply": "2023-07-01T03:08:12.392470Z"
        },
        "papermill": {
          "duration": 0.05625,
          "end_time": "2023-07-01T03:08:12.396656",
          "exception": false,
          "start_time": "2023-07-01T03:08:12.340406",
          "status": "completed"
        },
        "tags": [],
        "id": "9881b01f"
      },
      "outputs": [],
      "source": [
        "X_train, X_to_split, y_train, y_to_split = train_test_split(X, y, test_size=0.12, random_state=1)\n",
        "X_val, X_test, y_val, y_test = train_test_split(X_to_split, y_to_split, test_size=0.3, random_state=1)\n",
        "\n",
        "y_train_class = to_categorical(y_train, 7)\n",
        "y_val_class = to_categorical(y_val, 7)\n"
      ]
    },
    {
      "cell_type": "code",
      "source": [
        "y_test_class = to_categorical(y_test, 7)"
      ],
      "metadata": {
        "id": "XlWxWDG1J8Oh"
      },
      "id": "XlWxWDG1J8Oh",
      "execution_count": null,
      "outputs": []
    },
    {
      "cell_type": "code",
      "execution_count": null,
      "id": "064ed72d",
      "metadata": {
        "execution": {
          "iopub.execute_input": "2023-07-01T03:08:12.433637Z",
          "iopub.status.busy": "2023-07-01T03:08:12.433228Z",
          "iopub.status.idle": "2023-07-01T03:08:12.438030Z",
          "shell.execute_reply": "2023-07-01T03:08:12.436999Z"
        },
        "papermill": {
          "duration": 0.025544,
          "end_time": "2023-07-01T03:08:12.440371",
          "exception": false,
          "start_time": "2023-07-01T03:08:12.414827",
          "status": "completed"
        },
        "tags": [],
        "id": "064ed72d"
      },
      "outputs": [],
      "source": [
        "from keras.models import Sequential\n",
        "from keras import layers, optimizers, callbacks\n",
        "from tensorflow.keras.optimizers import Adam"
      ]
    },
    {
      "cell_type": "code",
      "source": [
        "MODEL = Sequential()\n",
        "MODEL.add(layers.LSTM(64, return_sequences=True, input_shape=(X.shape[1:3])))\n",
        "MODEL.add(layers.LSTM(64))\n",
        "MODEL.add(layers.Dense(7, activation='softmax'))"
      ],
      "metadata": {
        "id": "dU9czei5anGD"
      },
      "id": "dU9czei5anGD",
      "execution_count": null,
      "outputs": []
    },
    {
      "cell_type": "code",
      "source": [
        "rlrop = callbacks.ReduceLROnPlateau(monitor='val_categorical_accuracy', factor=0.01, patience=100)\n",
        "MODEL.compile(loss='categorical_crossentropy', optimizer='RMSProp', metrics=['categorical_accuracy'])\n",
        "model = MODEL.fit(X_train, y_train_class, epochs=200, batch_size=6, validation_data=(X_val, y_val_class))"
      ],
      "metadata": {
        "id": "vUYB54eKzy1n",
        "colab": {
          "base_uri": "https://localhost:8080/"
        },
        "outputId": "753ea14c-5190-42da-c38d-a7a4f3fa8c1a"
      },
      "id": "vUYB54eKzy1n",
      "execution_count": 22,
      "outputs": [
        {
          "output_type": "stream",
          "name": "stdout",
          "text": [
            "Epoch 1/200\n",
            "211/211 [==============================] - 125s 487ms/step - loss: 1.7037 - categorical_accuracy: 0.3146 - val_loss: 1.6356 - val_categorical_accuracy: 0.3388\n",
            "Epoch 2/200\n",
            "211/211 [==============================] - 70s 331ms/step - loss: 1.5779 - categorical_accuracy: 0.4000 - val_loss: 1.5423 - val_categorical_accuracy: 0.4050\n",
            "Epoch 3/200\n",
            "211/211 [==============================] - 85s 404ms/step - loss: 1.5384 - categorical_accuracy: 0.4103 - val_loss: 1.4908 - val_categorical_accuracy: 0.4215\n",
            "Epoch 4/200\n",
            "211/211 [==============================] - 75s 357ms/step - loss: 1.4832 - categorical_accuracy: 0.4427 - val_loss: 1.4811 - val_categorical_accuracy: 0.4132\n",
            "Epoch 5/200\n",
            "211/211 [==============================] - 72s 343ms/step - loss: 1.5132 - categorical_accuracy: 0.4206 - val_loss: 1.6195 - val_categorical_accuracy: 0.3967\n",
            "Epoch 6/200\n",
            "211/211 [==============================] - 74s 350ms/step - loss: 1.4941 - categorical_accuracy: 0.4229 - val_loss: 1.5698 - val_categorical_accuracy: 0.4132\n",
            "Epoch 7/200\n",
            "211/211 [==============================] - 62s 294ms/step - loss: 1.4608 - categorical_accuracy: 0.4379 - val_loss: 1.5045 - val_categorical_accuracy: 0.4628\n",
            "Epoch 8/200\n",
            "211/211 [==============================] - 69s 326ms/step - loss: 1.4091 - categorical_accuracy: 0.4640 - val_loss: 1.5137 - val_categorical_accuracy: 0.4380\n",
            "Epoch 9/200\n",
            "211/211 [==============================] - 62s 293ms/step - loss: 1.3832 - categorical_accuracy: 0.4862 - val_loss: 1.4746 - val_categorical_accuracy: 0.4545\n",
            "Epoch 10/200\n",
            "211/211 [==============================] - 62s 294ms/step - loss: 1.4063 - categorical_accuracy: 0.4672 - val_loss: 1.4871 - val_categorical_accuracy: 0.4298\n",
            "Epoch 11/200\n",
            "211/211 [==============================] - 64s 303ms/step - loss: 1.4392 - categorical_accuracy: 0.4490 - val_loss: 1.5686 - val_categorical_accuracy: 0.3884\n",
            "Epoch 12/200\n",
            "211/211 [==============================] - 62s 294ms/step - loss: 1.4076 - categorical_accuracy: 0.4711 - val_loss: 1.4619 - val_categorical_accuracy: 0.4463\n",
            "Epoch 13/200\n",
            "211/211 [==============================] - 64s 304ms/step - loss: 1.3582 - categorical_accuracy: 0.4830 - val_loss: 1.5223 - val_categorical_accuracy: 0.4876\n",
            "Epoch 14/200\n",
            "211/211 [==============================] - 62s 294ms/step - loss: 1.3430 - categorical_accuracy: 0.4822 - val_loss: 1.4481 - val_categorical_accuracy: 0.4215\n",
            "Epoch 15/200\n",
            "211/211 [==============================] - 61s 290ms/step - loss: 1.3108 - categorical_accuracy: 0.4925 - val_loss: 1.4736 - val_categorical_accuracy: 0.4959\n",
            "Epoch 16/200\n",
            "211/211 [==============================] - 64s 303ms/step - loss: 1.2885 - categorical_accuracy: 0.5083 - val_loss: 1.4244 - val_categorical_accuracy: 0.4463\n",
            "Epoch 17/200\n",
            "211/211 [==============================] - 62s 296ms/step - loss: 1.3510 - categorical_accuracy: 0.4862 - val_loss: 1.4727 - val_categorical_accuracy: 0.4711\n",
            "Epoch 18/200\n",
            "211/211 [==============================] - 61s 290ms/step - loss: 1.3273 - categorical_accuracy: 0.4980 - val_loss: 1.4937 - val_categorical_accuracy: 0.4298\n",
            "Epoch 19/200\n",
            "211/211 [==============================] - 64s 304ms/step - loss: 1.3240 - categorical_accuracy: 0.5099 - val_loss: 1.4977 - val_categorical_accuracy: 0.4545\n",
            "Epoch 20/200\n",
            "211/211 [==============================] - 61s 288ms/step - loss: 1.3177 - categorical_accuracy: 0.5028 - val_loss: 1.5011 - val_categorical_accuracy: 0.4545\n",
            "Epoch 21/200\n",
            "211/211 [==============================] - 63s 299ms/step - loss: 1.2958 - categorical_accuracy: 0.4972 - val_loss: 1.4944 - val_categorical_accuracy: 0.4628\n",
            "Epoch 22/200\n",
            "211/211 [==============================] - 60s 282ms/step - loss: 1.2856 - categorical_accuracy: 0.5091 - val_loss: 1.4838 - val_categorical_accuracy: 0.4132\n",
            "Epoch 23/200\n",
            "211/211 [==============================] - 61s 287ms/step - loss: 1.2644 - categorical_accuracy: 0.5202 - val_loss: 1.4457 - val_categorical_accuracy: 0.4793\n",
            "Epoch 24/200\n",
            "211/211 [==============================] - 64s 304ms/step - loss: 1.2663 - categorical_accuracy: 0.5178 - val_loss: 1.3976 - val_categorical_accuracy: 0.4793\n",
            "Epoch 25/200\n",
            "211/211 [==============================] - 61s 288ms/step - loss: 1.2333 - categorical_accuracy: 0.5344 - val_loss: 1.4406 - val_categorical_accuracy: 0.4876\n",
            "Epoch 26/200\n",
            "211/211 [==============================] - 61s 290ms/step - loss: 1.2304 - categorical_accuracy: 0.5273 - val_loss: 1.5121 - val_categorical_accuracy: 0.4959\n",
            "Epoch 27/200\n",
            "211/211 [==============================] - 63s 301ms/step - loss: 1.2354 - categorical_accuracy: 0.5415 - val_loss: 1.4816 - val_categorical_accuracy: 0.4959\n",
            "Epoch 28/200\n",
            "211/211 [==============================] - 61s 290ms/step - loss: 1.2120 - categorical_accuracy: 0.5344 - val_loss: 1.4422 - val_categorical_accuracy: 0.5041\n",
            "Epoch 29/200\n",
            "211/211 [==============================] - 64s 301ms/step - loss: 1.2060 - categorical_accuracy: 0.5375 - val_loss: 1.3717 - val_categorical_accuracy: 0.5041\n",
            "Epoch 30/200\n",
            "211/211 [==============================] - 60s 283ms/step - loss: 1.1994 - categorical_accuracy: 0.5518 - val_loss: 1.3990 - val_categorical_accuracy: 0.4711\n",
            "Epoch 31/200\n",
            "211/211 [==============================] - 61s 288ms/step - loss: 1.2105 - categorical_accuracy: 0.5470 - val_loss: 1.4631 - val_categorical_accuracy: 0.4545\n",
            "Epoch 32/200\n",
            "211/211 [==============================] - 63s 300ms/step - loss: 1.1824 - categorical_accuracy: 0.5605 - val_loss: 1.4725 - val_categorical_accuracy: 0.4793\n",
            "Epoch 33/200\n",
            "211/211 [==============================] - 61s 287ms/step - loss: 1.1950 - categorical_accuracy: 0.5589 - val_loss: 1.4505 - val_categorical_accuracy: 0.4959\n",
            "Epoch 34/200\n",
            "211/211 [==============================] - 62s 296ms/step - loss: 1.1819 - categorical_accuracy: 0.5494 - val_loss: 1.3394 - val_categorical_accuracy: 0.5207\n",
            "Epoch 35/200\n",
            "211/211 [==============================] - 62s 295ms/step - loss: 1.1737 - categorical_accuracy: 0.5739 - val_loss: 1.5039 - val_categorical_accuracy: 0.4876\n",
            "Epoch 36/200\n",
            "211/211 [==============================] - 61s 290ms/step - loss: 1.1624 - categorical_accuracy: 0.5581 - val_loss: 1.5111 - val_categorical_accuracy: 0.4959\n",
            "Epoch 37/200\n",
            "211/211 [==============================] - 63s 301ms/step - loss: 1.1468 - categorical_accuracy: 0.5581 - val_loss: 1.3984 - val_categorical_accuracy: 0.4959\n",
            "Epoch 38/200\n",
            "211/211 [==============================] - 61s 287ms/step - loss: 1.1330 - categorical_accuracy: 0.5779 - val_loss: 1.4417 - val_categorical_accuracy: 0.4876\n",
            "Epoch 39/200\n",
            "211/211 [==============================] - 62s 293ms/step - loss: 1.1563 - categorical_accuracy: 0.5715 - val_loss: 1.3739 - val_categorical_accuracy: 0.4959\n",
            "Epoch 40/200\n",
            "211/211 [==============================] - 64s 305ms/step - loss: 1.1143 - categorical_accuracy: 0.5747 - val_loss: 1.3610 - val_categorical_accuracy: 0.4628\n",
            "Epoch 41/200\n",
            "211/211 [==============================] - 62s 292ms/step - loss: 1.0753 - categorical_accuracy: 0.5968 - val_loss: 1.5025 - val_categorical_accuracy: 0.5207\n",
            "Epoch 42/200\n",
            "211/211 [==============================] - 64s 302ms/step - loss: 1.1214 - categorical_accuracy: 0.5739 - val_loss: 1.4489 - val_categorical_accuracy: 0.5289\n",
            "Epoch 43/200\n",
            "211/211 [==============================] - 61s 287ms/step - loss: 1.1142 - categorical_accuracy: 0.5747 - val_loss: 1.4744 - val_categorical_accuracy: 0.4545\n",
            "Epoch 44/200\n",
            "211/211 [==============================] - 60s 285ms/step - loss: 1.1488 - categorical_accuracy: 0.5684 - val_loss: 1.3477 - val_categorical_accuracy: 0.4793\n",
            "Epoch 45/200\n",
            "211/211 [==============================] - 63s 298ms/step - loss: 1.1377 - categorical_accuracy: 0.5731 - val_loss: 1.4888 - val_categorical_accuracy: 0.4711\n",
            "Epoch 46/200\n",
            "211/211 [==============================] - 60s 286ms/step - loss: 1.1523 - categorical_accuracy: 0.5731 - val_loss: 1.3409 - val_categorical_accuracy: 0.5041\n",
            "Epoch 47/200\n",
            "211/211 [==============================] - 63s 300ms/step - loss: 1.1535 - categorical_accuracy: 0.5723 - val_loss: 1.3313 - val_categorical_accuracy: 0.4711\n",
            "Epoch 48/200\n",
            "211/211 [==============================] - 61s 290ms/step - loss: 1.0931 - categorical_accuracy: 0.5842 - val_loss: 1.3993 - val_categorical_accuracy: 0.5041\n",
            "Epoch 49/200\n",
            "211/211 [==============================] - 61s 291ms/step - loss: 1.0545 - categorical_accuracy: 0.6000 - val_loss: 1.3009 - val_categorical_accuracy: 0.5124\n",
            "Epoch 50/200\n",
            "211/211 [==============================] - 65s 306ms/step - loss: 1.1032 - categorical_accuracy: 0.5731 - val_loss: 1.4750 - val_categorical_accuracy: 0.5289\n",
            "Epoch 51/200\n",
            "211/211 [==============================] - 62s 294ms/step - loss: 1.0777 - categorical_accuracy: 0.5976 - val_loss: 1.4419 - val_categorical_accuracy: 0.4711\n",
            "Epoch 52/200\n",
            "211/211 [==============================] - 64s 305ms/step - loss: 1.0503 - categorical_accuracy: 0.6063 - val_loss: 1.3610 - val_categorical_accuracy: 0.5207\n",
            "Epoch 53/200\n",
            "211/211 [==============================] - 62s 293ms/step - loss: 1.0552 - categorical_accuracy: 0.6040 - val_loss: 1.3922 - val_categorical_accuracy: 0.5124\n",
            "Epoch 54/200\n",
            "211/211 [==============================] - 61s 291ms/step - loss: 1.0222 - categorical_accuracy: 0.6237 - val_loss: 1.4495 - val_categorical_accuracy: 0.5124\n",
            "Epoch 55/200\n",
            "211/211 [==============================] - 68s 322ms/step - loss: 1.0046 - categorical_accuracy: 0.6158 - val_loss: 1.4104 - val_categorical_accuracy: 0.4876\n",
            "Epoch 56/200\n",
            "211/211 [==============================] - 62s 295ms/step - loss: 1.0454 - categorical_accuracy: 0.6111 - val_loss: 1.4150 - val_categorical_accuracy: 0.4876\n",
            "Epoch 57/200\n",
            "211/211 [==============================] - 64s 304ms/step - loss: 0.9954 - categorical_accuracy: 0.6324 - val_loss: 1.6153 - val_categorical_accuracy: 0.4380\n",
            "Epoch 58/200\n",
            "211/211 [==============================] - 60s 285ms/step - loss: 1.0640 - categorical_accuracy: 0.6024 - val_loss: 1.4356 - val_categorical_accuracy: 0.5041\n",
            "Epoch 59/200\n",
            "211/211 [==============================] - 62s 292ms/step - loss: 1.0279 - categorical_accuracy: 0.6126 - val_loss: 1.3656 - val_categorical_accuracy: 0.5372\n",
            "Epoch 60/200\n",
            "211/211 [==============================] - 65s 306ms/step - loss: 1.0683 - categorical_accuracy: 0.6008 - val_loss: 1.4184 - val_categorical_accuracy: 0.5124\n",
            "Epoch 61/200\n",
            "211/211 [==============================] - 61s 291ms/step - loss: 1.0261 - categorical_accuracy: 0.6142 - val_loss: 1.3870 - val_categorical_accuracy: 0.5207\n",
            "Epoch 62/200\n",
            "211/211 [==============================] - 64s 303ms/step - loss: 0.9869 - categorical_accuracy: 0.6245 - val_loss: 1.5523 - val_categorical_accuracy: 0.5041\n",
            "Epoch 63/200\n",
            "211/211 [==============================] - 61s 290ms/step - loss: 1.0347 - categorical_accuracy: 0.6142 - val_loss: 1.4413 - val_categorical_accuracy: 0.5041\n",
            "Epoch 64/200\n",
            "211/211 [==============================] - 62s 293ms/step - loss: 1.0232 - categorical_accuracy: 0.6126 - val_loss: 1.3933 - val_categorical_accuracy: 0.5124\n",
            "Epoch 65/200\n",
            "211/211 [==============================] - 64s 304ms/step - loss: 0.9806 - categorical_accuracy: 0.6356 - val_loss: 1.4908 - val_categorical_accuracy: 0.4711\n",
            "Epoch 66/200\n",
            "211/211 [==============================] - 62s 294ms/step - loss: 1.0016 - categorical_accuracy: 0.6229 - val_loss: 1.4687 - val_categorical_accuracy: 0.5124\n",
            "Epoch 67/200\n",
            "211/211 [==============================] - 64s 305ms/step - loss: 1.0130 - categorical_accuracy: 0.6150 - val_loss: 1.3576 - val_categorical_accuracy: 0.5372\n",
            "Epoch 68/200\n",
            "211/211 [==============================] - 62s 293ms/step - loss: 1.0301 - categorical_accuracy: 0.6316 - val_loss: 1.3503 - val_categorical_accuracy: 0.5372\n",
            "Epoch 69/200\n",
            "211/211 [==============================] - 60s 282ms/step - loss: 0.9837 - categorical_accuracy: 0.6277 - val_loss: 1.3416 - val_categorical_accuracy: 0.5289\n",
            "Epoch 70/200\n",
            "211/211 [==============================] - 64s 302ms/step - loss: 0.9658 - categorical_accuracy: 0.6419 - val_loss: 1.2858 - val_categorical_accuracy: 0.5702\n",
            "Epoch 71/200\n",
            "211/211 [==============================] - 61s 291ms/step - loss: 0.9795 - categorical_accuracy: 0.6411 - val_loss: 1.3505 - val_categorical_accuracy: 0.4876\n",
            "Epoch 72/200\n",
            "211/211 [==============================] - 66s 311ms/step - loss: 0.9445 - categorical_accuracy: 0.6451 - val_loss: 1.4375 - val_categorical_accuracy: 0.5372\n",
            "Epoch 73/200\n",
            "211/211 [==============================] - 62s 294ms/step - loss: 1.0099 - categorical_accuracy: 0.6261 - val_loss: 1.3851 - val_categorical_accuracy: 0.4711\n",
            "Epoch 74/200\n",
            "211/211 [==============================] - 62s 291ms/step - loss: 0.9858 - categorical_accuracy: 0.6285 - val_loss: 1.4281 - val_categorical_accuracy: 0.4876\n",
            "Epoch 75/200\n",
            "211/211 [==============================] - 64s 305ms/step - loss: 0.9589 - categorical_accuracy: 0.6340 - val_loss: 1.3680 - val_categorical_accuracy: 0.5207\n",
            "Epoch 76/200\n",
            "211/211 [==============================] - 62s 293ms/step - loss: 0.9387 - categorical_accuracy: 0.6601 - val_loss: 1.4128 - val_categorical_accuracy: 0.5455\n",
            "Epoch 77/200\n",
            "211/211 [==============================] - 64s 304ms/step - loss: 0.9470 - categorical_accuracy: 0.6474 - val_loss: 1.4169 - val_categorical_accuracy: 0.5289\n",
            "Epoch 78/200\n",
            "211/211 [==============================] - 62s 292ms/step - loss: 0.9268 - categorical_accuracy: 0.6443 - val_loss: 1.4153 - val_categorical_accuracy: 0.5785\n",
            "Epoch 79/200\n",
            "211/211 [==============================] - 63s 298ms/step - loss: 0.9316 - categorical_accuracy: 0.6538 - val_loss: 1.3978 - val_categorical_accuracy: 0.4628\n",
            "Epoch 80/200\n",
            "211/211 [==============================] - 64s 302ms/step - loss: 0.9466 - categorical_accuracy: 0.6601 - val_loss: 1.3531 - val_categorical_accuracy: 0.5785\n",
            "Epoch 81/200\n",
            "211/211 [==============================] - 62s 296ms/step - loss: 0.9474 - categorical_accuracy: 0.6545 - val_loss: 1.4014 - val_categorical_accuracy: 0.4876\n",
            "Epoch 82/200\n",
            "211/211 [==============================] - 65s 309ms/step - loss: 0.9344 - categorical_accuracy: 0.6625 - val_loss: 1.3764 - val_categorical_accuracy: 0.5702\n",
            "Epoch 83/200\n",
            "211/211 [==============================] - 62s 296ms/step - loss: 0.8944 - categorical_accuracy: 0.6648 - val_loss: 1.4607 - val_categorical_accuracy: 0.5124\n",
            "Epoch 84/200\n",
            "211/211 [==============================] - 64s 304ms/step - loss: 0.8792 - categorical_accuracy: 0.6656 - val_loss: 1.4106 - val_categorical_accuracy: 0.5372\n",
            "Epoch 85/200\n",
            "211/211 [==============================] - 62s 296ms/step - loss: 0.8921 - categorical_accuracy: 0.6783 - val_loss: 1.2576 - val_categorical_accuracy: 0.5537\n",
            "Epoch 86/200\n",
            "211/211 [==============================] - 62s 294ms/step - loss: 0.9200 - categorical_accuracy: 0.6538 - val_loss: 1.5024 - val_categorical_accuracy: 0.5124\n",
            "Epoch 87/200\n",
            "211/211 [==============================] - 64s 305ms/step - loss: 0.9058 - categorical_accuracy: 0.6672 - val_loss: 1.4204 - val_categorical_accuracy: 0.5207\n",
            "Epoch 88/200\n",
            "211/211 [==============================] - 62s 295ms/step - loss: 0.8955 - categorical_accuracy: 0.6688 - val_loss: 1.2963 - val_categorical_accuracy: 0.5537\n",
            "Epoch 89/200\n",
            "211/211 [==============================] - 64s 305ms/step - loss: 0.8850 - categorical_accuracy: 0.6727 - val_loss: 1.4168 - val_categorical_accuracy: 0.5455\n",
            "Epoch 90/200\n",
            "211/211 [==============================] - 63s 297ms/step - loss: 0.8430 - categorical_accuracy: 0.6893 - val_loss: 1.5128 - val_categorical_accuracy: 0.5124\n",
            "Epoch 91/200\n",
            "211/211 [==============================] - 62s 294ms/step - loss: 0.8788 - categorical_accuracy: 0.6751 - val_loss: 1.3241 - val_categorical_accuracy: 0.5620\n",
            "Epoch 92/200\n",
            "211/211 [==============================] - 65s 306ms/step - loss: 0.8698 - categorical_accuracy: 0.6798 - val_loss: 1.4433 - val_categorical_accuracy: 0.5868\n",
            "Epoch 93/200\n",
            "211/211 [==============================] - 62s 293ms/step - loss: 0.8448 - categorical_accuracy: 0.6838 - val_loss: 1.4137 - val_categorical_accuracy: 0.5785\n",
            "Epoch 94/200\n",
            "211/211 [==============================] - 64s 305ms/step - loss: 0.8812 - categorical_accuracy: 0.6696 - val_loss: 1.4803 - val_categorical_accuracy: 0.5455\n",
            "Epoch 95/200\n",
            "211/211 [==============================] - 62s 296ms/step - loss: 0.8343 - categorical_accuracy: 0.6838 - val_loss: 1.4991 - val_categorical_accuracy: 0.5041\n",
            "Epoch 96/200\n",
            "211/211 [==============================] - 65s 306ms/step - loss: 0.8978 - categorical_accuracy: 0.6664 - val_loss: 1.3490 - val_categorical_accuracy: 0.5537\n",
            "Epoch 97/200\n",
            "211/211 [==============================] - 62s 293ms/step - loss: 0.8685 - categorical_accuracy: 0.6751 - val_loss: 1.3142 - val_categorical_accuracy: 0.5372\n",
            "Epoch 98/200\n",
            "211/211 [==============================] - 62s 292ms/step - loss: 0.8517 - categorical_accuracy: 0.6988 - val_loss: 1.4829 - val_categorical_accuracy: 0.5207\n",
            "Epoch 99/200\n",
            "211/211 [==============================] - 65s 307ms/step - loss: 0.8659 - categorical_accuracy: 0.6806 - val_loss: 1.4878 - val_categorical_accuracy: 0.5372\n",
            "Epoch 100/200\n",
            "211/211 [==============================] - 63s 299ms/step - loss: 0.8734 - categorical_accuracy: 0.6846 - val_loss: 1.4972 - val_categorical_accuracy: 0.5041\n",
            "Epoch 101/200\n",
            "211/211 [==============================] - 65s 308ms/step - loss: 0.8728 - categorical_accuracy: 0.6688 - val_loss: 1.3816 - val_categorical_accuracy: 0.5537\n",
            "Epoch 102/200\n",
            "211/211 [==============================] - 63s 298ms/step - loss: 0.8632 - categorical_accuracy: 0.6972 - val_loss: 1.4517 - val_categorical_accuracy: 0.5537\n",
            "Epoch 103/200\n",
            "211/211 [==============================] - 63s 297ms/step - loss: 0.8649 - categorical_accuracy: 0.7020 - val_loss: 1.5220 - val_categorical_accuracy: 0.5289\n",
            "Epoch 104/200\n",
            "211/211 [==============================] - 65s 306ms/step - loss: 0.8397 - categorical_accuracy: 0.6885 - val_loss: 1.3854 - val_categorical_accuracy: 0.5455\n",
            "Epoch 105/200\n",
            "211/211 [==============================] - 62s 292ms/step - loss: 0.8031 - categorical_accuracy: 0.7051 - val_loss: 1.4947 - val_categorical_accuracy: 0.5702\n",
            "Epoch 106/200\n",
            "211/211 [==============================] - 64s 302ms/step - loss: 0.7794 - categorical_accuracy: 0.7083 - val_loss: 1.4260 - val_categorical_accuracy: 0.5537\n",
            "Epoch 107/200\n",
            "211/211 [==============================] - 62s 296ms/step - loss: 0.7611 - categorical_accuracy: 0.7186 - val_loss: 1.5278 - val_categorical_accuracy: 0.5537\n",
            "Epoch 108/200\n",
            "211/211 [==============================] - 62s 295ms/step - loss: 0.7370 - categorical_accuracy: 0.7273 - val_loss: 1.4041 - val_categorical_accuracy: 0.5455\n",
            "Epoch 109/200\n",
            "211/211 [==============================] - 64s 306ms/step - loss: 0.8221 - categorical_accuracy: 0.6957 - val_loss: 1.4616 - val_categorical_accuracy: 0.5289\n",
            "Epoch 110/200\n",
            "211/211 [==============================] - 64s 304ms/step - loss: 0.8009 - categorical_accuracy: 0.7043 - val_loss: 1.5771 - val_categorical_accuracy: 0.5372\n",
            "Epoch 111/200\n",
            "211/211 [==============================] - 65s 310ms/step - loss: 0.7953 - categorical_accuracy: 0.7036 - val_loss: 1.3961 - val_categorical_accuracy: 0.5620\n",
            "Epoch 112/200\n",
            "211/211 [==============================] - 63s 298ms/step - loss: 0.7924 - categorical_accuracy: 0.7083 - val_loss: 1.4793 - val_categorical_accuracy: 0.5372\n",
            "Epoch 113/200\n",
            "211/211 [==============================] - 64s 305ms/step - loss: 0.7825 - categorical_accuracy: 0.7123 - val_loss: 1.4602 - val_categorical_accuracy: 0.5372\n",
            "Epoch 114/200\n",
            "211/211 [==============================] - 63s 297ms/step - loss: 0.8141 - categorical_accuracy: 0.6885 - val_loss: 1.5866 - val_categorical_accuracy: 0.5537\n",
            "Epoch 115/200\n",
            "211/211 [==============================] - 62s 296ms/step - loss: 0.8152 - categorical_accuracy: 0.7004 - val_loss: 1.6285 - val_categorical_accuracy: 0.4876\n",
            "Epoch 116/200\n",
            "211/211 [==============================] - 65s 307ms/step - loss: 0.8402 - categorical_accuracy: 0.6949 - val_loss: 1.4330 - val_categorical_accuracy: 0.5785\n",
            "Epoch 117/200\n",
            "211/211 [==============================] - 62s 295ms/step - loss: 0.7408 - categorical_accuracy: 0.7209 - val_loss: 1.4763 - val_categorical_accuracy: 0.5702\n",
            "Epoch 118/200\n",
            "211/211 [==============================] - 65s 307ms/step - loss: 0.7313 - categorical_accuracy: 0.7431 - val_loss: 1.5669 - val_categorical_accuracy: 0.5289\n",
            "Epoch 119/200\n",
            "211/211 [==============================] - 64s 301ms/step - loss: 0.8008 - categorical_accuracy: 0.7146 - val_loss: 1.3504 - val_categorical_accuracy: 0.5537\n",
            "Epoch 120/200\n",
            "211/211 [==============================] - 63s 297ms/step - loss: 0.7502 - categorical_accuracy: 0.7447 - val_loss: 1.4084 - val_categorical_accuracy: 0.5868\n",
            "Epoch 121/200\n",
            "211/211 [==============================] - 64s 303ms/step - loss: 0.7753 - categorical_accuracy: 0.7257 - val_loss: 1.6865 - val_categorical_accuracy: 0.5207\n",
            "Epoch 122/200\n",
            "211/211 [==============================] - 62s 294ms/step - loss: 0.7169 - categorical_accuracy: 0.7336 - val_loss: 1.6789 - val_categorical_accuracy: 0.5455\n",
            "Epoch 123/200\n",
            "211/211 [==============================] - 64s 303ms/step - loss: 0.7283 - categorical_accuracy: 0.7320 - val_loss: 1.6339 - val_categorical_accuracy: 0.5124\n",
            "Epoch 124/200\n",
            "211/211 [==============================] - 62s 295ms/step - loss: 0.6893 - categorical_accuracy: 0.7494 - val_loss: 1.5264 - val_categorical_accuracy: 0.5868\n",
            "Epoch 125/200\n",
            "211/211 [==============================] - 62s 295ms/step - loss: 0.7204 - categorical_accuracy: 0.7470 - val_loss: 1.6537 - val_categorical_accuracy: 0.5289\n",
            "Epoch 126/200\n",
            "211/211 [==============================] - 63s 296ms/step - loss: 0.7579 - categorical_accuracy: 0.7241 - val_loss: 1.5582 - val_categorical_accuracy: 0.5124\n",
            "Epoch 127/200\n",
            "211/211 [==============================] - 62s 296ms/step - loss: 0.7060 - categorical_accuracy: 0.7478 - val_loss: 1.4363 - val_categorical_accuracy: 0.6364\n",
            "Epoch 128/200\n",
            "211/211 [==============================] - 64s 304ms/step - loss: 0.7229 - categorical_accuracy: 0.7328 - val_loss: 1.6700 - val_categorical_accuracy: 0.5289\n",
            "Epoch 129/200\n",
            "211/211 [==============================] - 63s 297ms/step - loss: 0.6889 - categorical_accuracy: 0.7494 - val_loss: 1.7793 - val_categorical_accuracy: 0.4711\n",
            "Epoch 130/200\n",
            "211/211 [==============================] - 63s 298ms/step - loss: 0.6711 - categorical_accuracy: 0.7573 - val_loss: 1.5009 - val_categorical_accuracy: 0.5868\n",
            "Epoch 131/200\n",
            "211/211 [==============================] - 65s 307ms/step - loss: 0.6716 - categorical_accuracy: 0.7613 - val_loss: 1.6079 - val_categorical_accuracy: 0.5124\n",
            "Epoch 132/200\n",
            "211/211 [==============================] - 62s 296ms/step - loss: 0.7440 - categorical_accuracy: 0.7383 - val_loss: 1.6596 - val_categorical_accuracy: 0.5289\n",
            "Epoch 133/200\n",
            "211/211 [==============================] - 62s 295ms/step - loss: 0.6976 - categorical_accuracy: 0.7470 - val_loss: 1.5825 - val_categorical_accuracy: 0.5868\n",
            "Epoch 134/200\n",
            "211/211 [==============================] - 64s 304ms/step - loss: 0.6836 - categorical_accuracy: 0.7518 - val_loss: 1.7249 - val_categorical_accuracy: 0.4959\n",
            "Epoch 135/200\n",
            "211/211 [==============================] - 62s 295ms/step - loss: 0.6657 - categorical_accuracy: 0.7589 - val_loss: 1.5158 - val_categorical_accuracy: 0.5785\n",
            "Epoch 136/200\n",
            "211/211 [==============================] - 64s 305ms/step - loss: 0.6855 - categorical_accuracy: 0.7581 - val_loss: 1.4089 - val_categorical_accuracy: 0.5455\n",
            "Epoch 137/200\n",
            "211/211 [==============================] - 62s 294ms/step - loss: 0.6622 - categorical_accuracy: 0.7763 - val_loss: 1.6145 - val_categorical_accuracy: 0.5289\n",
            "Epoch 138/200\n",
            "211/211 [==============================] - 62s 294ms/step - loss: 0.5994 - categorical_accuracy: 0.7779 - val_loss: 1.6501 - val_categorical_accuracy: 0.5785\n",
            "Epoch 139/200\n",
            "211/211 [==============================] - 65s 305ms/step - loss: 0.6565 - categorical_accuracy: 0.7747 - val_loss: 1.5952 - val_categorical_accuracy: 0.5124\n",
            "Epoch 140/200\n",
            "211/211 [==============================] - 64s 301ms/step - loss: 0.6520 - categorical_accuracy: 0.7787 - val_loss: 1.8396 - val_categorical_accuracy: 0.5372\n",
            "Epoch 141/200\n",
            "211/211 [==============================] - 67s 315ms/step - loss: 0.6692 - categorical_accuracy: 0.7628 - val_loss: 1.6425 - val_categorical_accuracy: 0.5455\n",
            "Epoch 142/200\n",
            "211/211 [==============================] - 62s 292ms/step - loss: 0.5796 - categorical_accuracy: 0.7913 - val_loss: 1.7108 - val_categorical_accuracy: 0.5041\n",
            "Epoch 143/200\n",
            "211/211 [==============================] - 62s 294ms/step - loss: 0.6380 - categorical_accuracy: 0.7668 - val_loss: 1.5726 - val_categorical_accuracy: 0.5455\n",
            "Epoch 144/200\n",
            "211/211 [==============================] - 65s 307ms/step - loss: 0.6398 - categorical_accuracy: 0.7708 - val_loss: 1.5458 - val_categorical_accuracy: 0.5702\n",
            "Epoch 145/200\n",
            "211/211 [==============================] - 62s 295ms/step - loss: 0.6733 - categorical_accuracy: 0.7621 - val_loss: 1.4844 - val_categorical_accuracy: 0.5207\n",
            "Epoch 146/200\n",
            "211/211 [==============================] - 62s 294ms/step - loss: 0.6859 - categorical_accuracy: 0.7502 - val_loss: 1.6910 - val_categorical_accuracy: 0.4711\n",
            "Epoch 147/200\n",
            "211/211 [==============================] - 65s 308ms/step - loss: 0.6278 - categorical_accuracy: 0.7826 - val_loss: 1.8553 - val_categorical_accuracy: 0.4793\n",
            "Epoch 148/200\n",
            "211/211 [==============================] - 62s 295ms/step - loss: 0.6098 - categorical_accuracy: 0.7858 - val_loss: 1.6141 - val_categorical_accuracy: 0.5372\n",
            "Epoch 149/200\n",
            "211/211 [==============================] - 64s 304ms/step - loss: 0.6125 - categorical_accuracy: 0.8016 - val_loss: 1.7464 - val_categorical_accuracy: 0.4711\n",
            "Epoch 150/200\n",
            "211/211 [==============================] - 62s 295ms/step - loss: 0.6087 - categorical_accuracy: 0.7834 - val_loss: 1.7253 - val_categorical_accuracy: 0.4628\n",
            "Epoch 151/200\n",
            "211/211 [==============================] - 62s 296ms/step - loss: 0.5948 - categorical_accuracy: 0.8055 - val_loss: 1.6541 - val_categorical_accuracy: 0.4959\n",
            "Epoch 152/200\n",
            "211/211 [==============================] - 65s 308ms/step - loss: 0.5700 - categorical_accuracy: 0.8087 - val_loss: 1.7426 - val_categorical_accuracy: 0.5372\n",
            "Epoch 153/200\n",
            "211/211 [==============================] - 62s 295ms/step - loss: 0.5757 - categorical_accuracy: 0.7976 - val_loss: 1.4518 - val_categorical_accuracy: 0.5455\n",
            "Epoch 154/200\n",
            "211/211 [==============================] - 63s 297ms/step - loss: 0.6218 - categorical_accuracy: 0.7810 - val_loss: 1.5860 - val_categorical_accuracy: 0.5289\n",
            "Epoch 155/200\n",
            "211/211 [==============================] - 64s 306ms/step - loss: 0.5727 - categorical_accuracy: 0.8000 - val_loss: 1.7706 - val_categorical_accuracy: 0.5289\n",
            "Epoch 156/200\n",
            "211/211 [==============================] - 63s 297ms/step - loss: 0.5598 - categorical_accuracy: 0.7953 - val_loss: 1.7570 - val_categorical_accuracy: 0.5455\n",
            "Epoch 157/200\n",
            "211/211 [==============================] - 65s 309ms/step - loss: 0.6775 - categorical_accuracy: 0.7747 - val_loss: 1.6362 - val_categorical_accuracy: 0.5620\n",
            "Epoch 158/200\n",
            "211/211 [==============================] - 62s 296ms/step - loss: 0.5713 - categorical_accuracy: 0.7897 - val_loss: 1.6906 - val_categorical_accuracy: 0.5455\n",
            "Epoch 159/200\n",
            "211/211 [==============================] - 62s 295ms/step - loss: 0.5565 - categorical_accuracy: 0.8071 - val_loss: 1.8219 - val_categorical_accuracy: 0.4876\n",
            "Epoch 160/200\n",
            "211/211 [==============================] - 65s 307ms/step - loss: 0.5608 - categorical_accuracy: 0.8095 - val_loss: 1.6550 - val_categorical_accuracy: 0.5620\n",
            "Epoch 161/200\n",
            "211/211 [==============================] - 62s 296ms/step - loss: 0.5499 - categorical_accuracy: 0.8134 - val_loss: 1.9192 - val_categorical_accuracy: 0.4793\n",
            "Epoch 162/200\n",
            "211/211 [==============================] - 62s 295ms/step - loss: 0.5403 - categorical_accuracy: 0.8166 - val_loss: 1.8130 - val_categorical_accuracy: 0.4959\n",
            "Epoch 163/200\n",
            "211/211 [==============================] - 64s 305ms/step - loss: 0.5991 - categorical_accuracy: 0.7929 - val_loss: 1.7325 - val_categorical_accuracy: 0.5455\n",
            "Epoch 164/200\n",
            "211/211 [==============================] - 62s 296ms/step - loss: 0.5894 - categorical_accuracy: 0.7984 - val_loss: 1.6946 - val_categorical_accuracy: 0.5124\n",
            "Epoch 165/200\n",
            "211/211 [==============================] - 62s 296ms/step - loss: 0.5741 - categorical_accuracy: 0.7897 - val_loss: 1.5953 - val_categorical_accuracy: 0.5455\n",
            "Epoch 166/200\n",
            "211/211 [==============================] - 64s 306ms/step - loss: 0.5806 - categorical_accuracy: 0.7913 - val_loss: 1.5286 - val_categorical_accuracy: 0.5537\n",
            "Epoch 167/200\n",
            "211/211 [==============================] - 63s 297ms/step - loss: 0.5108 - categorical_accuracy: 0.8213 - val_loss: 1.7762 - val_categorical_accuracy: 0.5124\n",
            "Epoch 168/200\n",
            "211/211 [==============================] - 65s 306ms/step - loss: 0.4582 - categorical_accuracy: 0.8419 - val_loss: 1.7570 - val_categorical_accuracy: 0.5207\n",
            "Epoch 169/200\n",
            "211/211 [==============================] - 62s 294ms/step - loss: 0.5263 - categorical_accuracy: 0.8198 - val_loss: 1.7671 - val_categorical_accuracy: 0.5620\n",
            "Epoch 170/200\n",
            "211/211 [==============================] - 62s 295ms/step - loss: 0.4797 - categorical_accuracy: 0.8364 - val_loss: 1.7027 - val_categorical_accuracy: 0.5620\n",
            "Epoch 171/200\n",
            "211/211 [==============================] - 64s 303ms/step - loss: 0.5075 - categorical_accuracy: 0.8300 - val_loss: 1.6764 - val_categorical_accuracy: 0.5207\n",
            "Epoch 172/200\n",
            "211/211 [==============================] - 62s 294ms/step - loss: 0.5473 - categorical_accuracy: 0.8150 - val_loss: 1.4775 - val_categorical_accuracy: 0.5372\n",
            "Epoch 173/200\n",
            "211/211 [==============================] - 62s 295ms/step - loss: 0.5880 - categorical_accuracy: 0.7937 - val_loss: 1.6152 - val_categorical_accuracy: 0.5785\n",
            "Epoch 174/200\n",
            "211/211 [==============================] - 64s 306ms/step - loss: 0.5259 - categorical_accuracy: 0.8261 - val_loss: 1.7657 - val_categorical_accuracy: 0.5041\n",
            "Epoch 175/200\n",
            "211/211 [==============================] - 62s 295ms/step - loss: 0.4887 - categorical_accuracy: 0.8332 - val_loss: 1.8115 - val_categorical_accuracy: 0.5289\n",
            "Epoch 176/200\n",
            "211/211 [==============================] - 63s 297ms/step - loss: 0.4871 - categorical_accuracy: 0.8316 - val_loss: 1.7687 - val_categorical_accuracy: 0.5124\n",
            "Epoch 177/200\n",
            "211/211 [==============================] - 65s 306ms/step - loss: 0.4614 - categorical_accuracy: 0.8395 - val_loss: 1.8937 - val_categorical_accuracy: 0.5455\n",
            "Epoch 178/200\n",
            "211/211 [==============================] - 62s 296ms/step - loss: 0.4213 - categorical_accuracy: 0.8648 - val_loss: 1.7517 - val_categorical_accuracy: 0.5868\n",
            "Epoch 179/200\n",
            "211/211 [==============================] - 62s 293ms/step - loss: 0.4832 - categorical_accuracy: 0.8292 - val_loss: 1.7232 - val_categorical_accuracy: 0.5289\n",
            "Epoch 180/200\n",
            "211/211 [==============================] - 65s 306ms/step - loss: 0.4340 - categorical_accuracy: 0.8498 - val_loss: 1.7189 - val_categorical_accuracy: 0.5289\n",
            "Epoch 181/200\n",
            "211/211 [==============================] - 63s 298ms/step - loss: 0.3816 - categorical_accuracy: 0.8704 - val_loss: 1.8623 - val_categorical_accuracy: 0.5207\n",
            "Epoch 182/200\n",
            "211/211 [==============================] - 63s 298ms/step - loss: 0.4595 - categorical_accuracy: 0.8451 - val_loss: 1.7816 - val_categorical_accuracy: 0.5289\n",
            "Epoch 183/200\n",
            "211/211 [==============================] - 65s 306ms/step - loss: 0.4407 - categorical_accuracy: 0.8538 - val_loss: 1.9050 - val_categorical_accuracy: 0.5124\n",
            "Epoch 184/200\n",
            "211/211 [==============================] - 62s 295ms/step - loss: 0.4420 - categorical_accuracy: 0.8466 - val_loss: 1.7039 - val_categorical_accuracy: 0.5537\n",
            "Epoch 185/200\n",
            "211/211 [==============================] - 64s 303ms/step - loss: 0.4609 - categorical_accuracy: 0.8466 - val_loss: 1.9936 - val_categorical_accuracy: 0.5537\n",
            "Epoch 186/200\n",
            "211/211 [==============================] - 63s 298ms/step - loss: 0.5534 - categorical_accuracy: 0.8095 - val_loss: 1.7352 - val_categorical_accuracy: 0.5537\n",
            "Epoch 187/200\n",
            "211/211 [==============================] - 62s 293ms/step - loss: 0.5786 - categorical_accuracy: 0.7968 - val_loss: 1.7381 - val_categorical_accuracy: 0.5207\n",
            "Epoch 188/200\n",
            "211/211 [==============================] - 66s 314ms/step - loss: 0.4804 - categorical_accuracy: 0.8356 - val_loss: 1.8384 - val_categorical_accuracy: 0.4876\n",
            "Epoch 189/200\n",
            "211/211 [==============================] - 62s 296ms/step - loss: 0.3959 - categorical_accuracy: 0.8640 - val_loss: 1.8283 - val_categorical_accuracy: 0.5289\n",
            "Epoch 190/200\n",
            "211/211 [==============================] - 63s 301ms/step - loss: 0.4931 - categorical_accuracy: 0.8245 - val_loss: 1.9650 - val_categorical_accuracy: 0.5041\n",
            "Epoch 191/200\n",
            "211/211 [==============================] - 64s 305ms/step - loss: 0.3932 - categorical_accuracy: 0.8553 - val_loss: 2.1344 - val_categorical_accuracy: 0.4959\n",
            "Epoch 192/200\n",
            "211/211 [==============================] - 62s 296ms/step - loss: 0.4325 - categorical_accuracy: 0.8498 - val_loss: 1.8484 - val_categorical_accuracy: 0.5207\n",
            "Epoch 193/200\n",
            "211/211 [==============================] - 62s 296ms/step - loss: 0.4258 - categorical_accuracy: 0.8625 - val_loss: 1.9740 - val_categorical_accuracy: 0.5455\n",
            "Epoch 194/200\n",
            "211/211 [==============================] - 65s 308ms/step - loss: 0.4647 - categorical_accuracy: 0.8395 - val_loss: 1.7760 - val_categorical_accuracy: 0.5124\n",
            "Epoch 195/200\n",
            "211/211 [==============================] - 62s 295ms/step - loss: 0.4821 - categorical_accuracy: 0.8419 - val_loss: 1.6056 - val_categorical_accuracy: 0.5702\n",
            "Epoch 196/200\n",
            "211/211 [==============================] - 62s 296ms/step - loss: 0.4749 - categorical_accuracy: 0.8482 - val_loss: 1.5461 - val_categorical_accuracy: 0.5950\n",
            "Epoch 197/200\n",
            "211/211 [==============================] - 65s 309ms/step - loss: 0.4595 - categorical_accuracy: 0.8451 - val_loss: 1.9834 - val_categorical_accuracy: 0.5207\n",
            "Epoch 198/200\n",
            "211/211 [==============================] - 63s 297ms/step - loss: 0.4759 - categorical_accuracy: 0.8340 - val_loss: 1.7698 - val_categorical_accuracy: 0.5289\n",
            "Epoch 199/200\n",
            "211/211 [==============================] - 63s 297ms/step - loss: 0.4109 - categorical_accuracy: 0.8474 - val_loss: 1.9076 - val_categorical_accuracy: 0.5124\n",
            "Epoch 200/200\n",
            "211/211 [==============================] - 65s 306ms/step - loss: 0.3897 - categorical_accuracy: 0.8680 - val_loss: 1.8339 - val_categorical_accuracy: 0.5537\n"
          ]
        }
      ]
    },
    {
      "cell_type": "markdown",
      "id": "8d8d1cb4",
      "metadata": {
        "papermill": {
          "duration": 2.629836,
          "end_time": "2023-07-01T03:41:00.375053",
          "exception": false,
          "start_time": "2023-07-01T03:40:57.745217",
          "status": "completed"
        },
        "tags": [],
        "id": "8d8d1cb4"
      },
      "source": [
        "# Evaluate and conclude"
      ]
    },
    {
      "cell_type": "code",
      "execution_count": 23,
      "id": "b53441a4",
      "metadata": {
        "execution": {
          "iopub.execute_input": "2023-07-01T03:41:05.596715Z",
          "iopub.status.busy": "2023-07-01T03:41:05.595918Z",
          "iopub.status.idle": "2023-07-01T03:41:05.601268Z",
          "shell.execute_reply": "2023-07-01T03:41:05.600195Z"
        },
        "papermill": {
          "duration": 2.628167,
          "end_time": "2023-07-01T03:41:05.603531",
          "exception": false,
          "start_time": "2023-07-01T03:41:02.975364",
          "status": "completed"
        },
        "tags": [],
        "id": "b53441a4"
      },
      "outputs": [],
      "source": [
        "from sklearn.metrics import confusion_matrix"
      ]
    },
    {
      "cell_type": "code",
      "execution_count": 24,
      "id": "8713d419",
      "metadata": {
        "execution": {
          "iopub.execute_input": "2023-07-01T03:41:11.368595Z",
          "iopub.status.busy": "2023-07-01T03:41:11.368195Z",
          "iopub.status.idle": "2023-07-01T03:41:11.860349Z",
          "shell.execute_reply": "2023-07-01T03:41:11.859331Z"
        },
        "papermill": {
          "duration": 3.524411,
          "end_time": "2023-07-01T03:41:11.863546",
          "exception": false,
          "start_time": "2023-07-01T03:41:08.339135",
          "status": "completed"
        },
        "tags": [],
        "colab": {
          "base_uri": "https://localhost:8080/",
          "height": 507
        },
        "id": "8713d419",
        "outputId": "80606c13-bc36-4deb-b0ff-4454824664b4"
      },
      "outputs": [
        {
          "output_type": "display_data",
          "data": {
            "text/plain": [
              "<Figure size 1000x500 with 2 Axes>"
            ],
            "image/png": "[encoded data removed]"
          },
          "metadata": {}
        }
      ],
      "source": [
        "fig, axes = plt.subplots(1, 2, figsize=(10, 5))\n",
        "\n",
        "axes[0].plot(model.history['loss'])\n",
        "axes[0].plot(model.history['val_loss'])\n",
        "axes[0].set_title('Loss for Train and Validation Sets')\n",
        "axes[0].set_ylabel('Loss')\n",
        "axes[0].set_xlabel('Epochs')\n",
        "axes[0].legend(['Training', 'Validation'])\n",
        "\n",
        "axes[1].plot(model.history['categorical_accuracy'])\n",
        "axes[1].plot(model.history['val_categorical_accuracy'])\n",
        "axes[1].set_title('Accuracy for Train and Validation Sets')\n",
        "axes[1].set_ylabel('Accuracy')\n",
        "axes[1].set_xlabel('Epochs')\n",
        "axes[1].legend(['Training', 'Validation'])\n",
        "\n",
        "fig.tight_layout()\n",
        "\n",
        "plt.show()"
      ]
    },
    {
      "cell_type": "code",
      "execution_count": 25,
      "id": "5b82380e",
      "metadata": {
        "execution": {
          "iopub.execute_input": "2023-07-01T03:41:17.093841Z",
          "iopub.status.busy": "2023-07-01T03:41:17.093189Z",
          "iopub.status.idle": "2023-07-01T03:41:19.184501Z",
          "shell.execute_reply": "2023-07-01T03:41:19.183376Z"
        },
        "papermill": {
          "duration": 4.693829,
          "end_time": "2023-07-01T03:41:19.186891",
          "exception": false,
          "start_time": "2023-07-01T03:41:14.493062",
          "status": "completed"
        },
        "tags": [],
        "colab": {
          "base_uri": "https://localhost:8080/",
          "height": 490
        },
        "id": "5b82380e",
        "outputId": "d97c03a3-0e78-46d1-a74f-74dfe49e1c9e"
      },
      "outputs": [
        {
          "output_type": "stream",
          "name": "stdout",
          "text": [
            "4/4 [==============================] - 4s 255ms/step\n"
          ]
        },
        {
          "output_type": "display_data",
          "data": {
            "text/plain": [
              "<Figure size 640x480 with 2 Axes>"
            ],
            "image/png": "[encoded data removed]"
          },
          "metadata": {}
        }
      ],
      "source": [
        "import seaborn as sns\n",
        "\n",
        "y_pred = np.argmax(MODEL.predict(X_val), axis=1)\n",
        "labels = ['neutral', 'calm', 'sad', 'happy', 'fear', 'disgust', 'surprise']\n",
        "cm = confusion_matrix(np.argmax(y_val_class, axis=1), y_pred, labels=range(7))\n",
        "\n",
        "sns.heatmap(cm, annot=True, fmt='d', cmap='Reds', xticklabels=labels, yticklabels=labels)\n",
        "plt.xlabel('Predicted label')\n",
        "plt.ylabel('True label')\n",
        "plt.title('Confusion matrix')\n",
        "plt.show()"
      ]
    },
    {
      "cell_type": "code",
      "source": [
        "MODEL.evaluate(X_test, y_test_class)[1]*100"
      ],
      "metadata": {
        "colab": {
          "base_uri": "https://localhost:8080/"
        },
        "id": "XdcdAygDElrY",
        "outputId": "6ff53134-d220-443c-b8bb-8eb65bcd062f"
      },
      "id": "XdcdAygDElrY",
      "execution_count": 26,
      "outputs": [
        {
          "output_type": "stream",
          "name": "stdout",
          "text": [
            "2/2 [==============================] - 0s 132ms/step - loss: 1.9587 - categorical_accuracy: 0.5577\n"
          ]
        },
        {
          "output_type": "execute_result",
          "data": {
            "text/plain": [
              "55.7692289352417"
            ]
          },
          "metadata": {},
          "execution_count": 26
        }
      ]
    }
  ],
  "metadata": {
    "kernelspec": {
      "display_name": "Python 3",
      "language": "python",
      "name": "python3"
    },
    "language_info": {
      "codemirror_mode": {
        "name": "ipython",
        "version": 3
      },
      "file_extension": ".py",
      "mimetype": "text/x-python",
      "name": "python",
      "nbconvert_exporter": "python",
      "pygments_lexer": "ipython3",
      "version": "3.7.12"
    },
    "papermill": {
      "default_parameters": {},
      "duration": 2308.522165,
      "end_time": "2023-07-01T03:41:30.439031",
      "environment_variables": {},
      "exception": null,
      "input_path": "__notebook__.ipynb",
      "output_path": "__notebook__.ipynb",
      "parameters": {},
      "start_time": "2023-07-01T03:03:01.916866",
      "version": "2.4.0"
    },
    "colab": {
      "provenance": []
    }
  },
  "nbformat": 4,
  "nbformat_minor": 5
}