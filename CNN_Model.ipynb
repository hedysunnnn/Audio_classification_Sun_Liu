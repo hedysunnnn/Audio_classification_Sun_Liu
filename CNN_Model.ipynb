{
 "cells": [
  {
   "cell_type": "code",
   "execution_count": 57,
   "id": "85d4061e",
   "metadata": {
    "_cell_guid": "b1076dfc-b9ad-4769-8c92-a6c4dae69d19",
    "_uuid": "8f2839f25d086af736a60e9eeb907d3b93b6e0e5",
    "execution": {
     "iopub.execute_input": "2024-03-29T03:14:34.397596Z",
     "iopub.status.busy": "2024-03-29T03:14:34.397210Z",
     "iopub.status.idle": "2024-03-29T03:14:53.650512Z",
     "shell.execute_reply": "2024-03-29T03:14:53.649483Z"
    },
    "id": "85d4061e",
    "papermill": {
     "duration": 19.273653,
     "end_time": "2024-03-29T03:14:53.653439",
     "exception": false,
     "start_time": "2024-03-29T03:14:34.379786",
     "status": "completed"
    },
    "tags": []
   },
   "outputs": [],
   "source": [
    "import librosa\n",
    "import librosa.display\n",
    "import numpy as np\n",
    "import matplotlib.pyplot as plt\n",
    "import tensorflow as tf\n",
    "from matplotlib.pyplot import specgram\n",
    "from sklearn.preprocessing import StandardScaler, OneHotEncoder\n",
    "from sklearn.metrics import confusion_matrix, classification_report\n",
    "from sklearn.model_selection import train_test_split\n",
    "import seaborn as sns\n",
    "import keras\n",
    "from keras.callbacks import ReduceLROnPlateau\n",
    "from keras.models import Sequential\n",
    "from keras.layers import Dense, Conv1D, MaxPooling1D, Flatten, Dropout, BatchNormalization\n",
    "from keras.utils import to_categorical\n",
    "from keras.callbacks import ModelCheckpoint\n",
    "from keras import regularizers\n",
    "import os\n",
    "import glob\n",
    "import pandas as pd\n",
    "import IPython.display as ipd\n",
    "import plotly.express as px\n",
    "import scipy.io.wavfile\n",
    "import sys\n",
    "import warnings\n",
    "if not sys.warnoptions:\n",
    "    warnings.simplefilter(\"ignore\")\n",
    "warnings.filterwarnings(\"ignore\", category=DeprecationWarning)"
   ]
  },
  {
   "cell_type": "code",
   "execution_count": 58,
   "id": "41912f39",
   "metadata": {
    "colab": {
     "base_uri": "https://localhost:8080/"
    },
    "execution": {
     "iopub.execute_input": "2024-03-29T03:14:53.739691Z",
     "iopub.status.busy": "2024-03-29T03:14:53.738062Z",
     "iopub.status.idle": "2024-03-29T03:14:54.192437Z",
     "shell.execute_reply": "2024-03-29T03:14:54.191255Z"
    },
    "id": "41912f39",
    "outputId": "b0fa61f2-4f84-4460-d2c5-ea2b0df3cf5f",
    "papermill": {
     "duration": 0.473002,
     "end_time": "2024-03-29T03:14:54.195679",
     "exception": false,
     "start_time": "2024-03-29T03:14:53.722677",
     "status": "completed"
    },
    "tags": []
   },
   "outputs": [
    {
     "name": "stdout",
     "output_type": "stream",
     "text": [
      "Drive already mounted at /content/drive; to attempt to forcibly remount, call drive.mount(\"/content/drive\", force_remount=True).\n"
     ]
    }
   ],
   "source": [
    "#这个data只能在这个google folder里用\n",
    "from google.colab import drive\n",
    "drive.mount('/content/drive')\n",
    "\n",
    "RAV = '/content/drive/MyDrive/Vision_Project/audio_speech_actors_01-24/'\n",
    "dir_list = os.listdir(RAV)\n",
    "\n",
    "emotion = []\n",
    "gender = []\n",
    "path = []\n",
    "feature = []\n",
    "for i in dir_list:\n",
    "    fname = os.listdir(RAV + i)\n",
    "    for f in fname:\n",
    "        part = f.split('.')[0].split('-')\n",
    "        emotion.append(int(part[2]))\n",
    "        temp = int(part[6])\n",
    "        if temp%2 == 0:\n",
    "            temp = \"female\"\n",
    "        else:\n",
    "            temp = \"male\"\n",
    "        gender.append(temp)\n",
    "        path.append(RAV + i + '/' + f)\n",
    "\n",
    "RAV_df = pd.DataFrame(emotion)\n",
    "RAV_df = RAV_df.replace({1:'neutral', 2:'neutral', 3:'happy', 4:'sad', 5:'angry', 6:'fear', 7:'disgust', 8:'surprise'})\n",
    "RAV_df = pd.concat([pd.DataFrame(gender),RAV_df],axis=1)\n",
    "RAV_df.columns = ['gender','emotion']\n",
    "RAV_df['labels'] =RAV_df.gender + '_' + RAV_df.emotion\n",
    "RAV_df['source'] = 'RAVDESS'\n",
    "RAV_df = pd.concat([RAV_df,pd.DataFrame(path, columns = ['path'])],axis=1)\n",
    "RAV_df = RAV_df.drop(['gender'], axis=1)\n"
   ]
  },
  {
   "cell_type": "code",
   "execution_count": 59,
   "id": "cbf1b69b",
   "metadata": {
    "execution": {
     "iopub.execute_input": "2024-03-29T03:15:12.548238Z",
     "iopub.status.busy": "2024-03-29T03:15:12.547383Z",
     "iopub.status.idle": "2024-03-29T03:15:12.581786Z",
     "shell.execute_reply": "2024-03-29T03:15:12.580760Z"
    },
    "id": "cbf1b69b",
    "papermill": {
     "duration": 0.064008,
     "end_time": "2024-03-29T03:15:12.584504",
     "exception": false,
     "start_time": "2024-03-29T03:15:12.520496",
     "status": "completed"
    },
    "tags": []
   },
   "outputs": [],
   "source": [
    "def noise(data):\n",
    "    noise_amp = 0.035*np.random.uniform()*np.amax(data)\n",
    "    data = data + noise_amp*np.random.normal(size=data.shape[0])\n",
    "    return data\n",
    "\n",
    "def stretch(data, rate=0.8):\n",
    "    return librosa.effects.time_stretch(data, rate = rate)\n",
    "\n",
    "def shift(data):\n",
    "    shift_range = int(np.random.uniform(low=-5, high = 5)*1000)\n",
    "    return np.roll(data, shift_range)\n",
    "\n",
    "def pitch(data, sampling_rate, pitch_factor=0.7):\n",
    "    return librosa.effects.pitch_shift(data, sr=sampling_rate, n_steps=pitch_factor)\n",
    "\n",
    "path = np.array(RAV_df.path)[1]\n",
    "data, sample_rate = librosa.load(path)"
   ]
  },
  {
   "cell_type": "code",
   "execution_count": 60,
   "id": "8336977d",
   "metadata": {
    "execution": {
     "iopub.execute_input": "2024-03-29T03:15:17.723392Z",
     "iopub.status.busy": "2024-03-29T03:15:17.722549Z",
     "iopub.status.idle": "2024-03-29T03:15:17.735844Z",
     "shell.execute_reply": "2024-03-29T03:15:17.734902Z"
    },
    "id": "8336977d",
    "papermill": {
     "duration": 0.065364,
     "end_time": "2024-03-29T03:15:17.738590",
     "exception": false,
     "start_time": "2024-03-29T03:15:17.673226",
     "status": "completed"
    },
    "tags": []
   },
   "outputs": [],
   "source": [
    "def extract_features(data):\n",
    "    # ZCR\n",
    "    result = np.array([])\n",
    "    zcr = np.mean(librosa.feature.zero_crossing_rate(y=data).T, axis=0)\n",
    "    result=np.hstack((result, zcr)) # stacking horizontally\n",
    "\n",
    "    # Chroma_stft\n",
    "    stft = np.abs(librosa.stft(data))\n",
    "    chroma_stft = np.mean(librosa.feature.chroma_stft(S=stft, sr=sample_rate).T, axis=0)\n",
    "    result = np.hstack((result, chroma_stft)) # stacking horizontally\n",
    "\n",
    "    # MFCC\n",
    "    mfcc = np.mean(librosa.feature.mfcc(y=data, sr=sample_rate).T, axis=0)\n",
    "    result = np.hstack((result, mfcc)) # stacking horizontally\n",
    "\n",
    "    # Root Mean Square Value\n",
    "    rms = np.mean(librosa.feature.rms(y=data).T, axis=0)\n",
    "    result = np.hstack((result, rms)) # stacking horizontally\n",
    "\n",
    "    # MelSpectogram\n",
    "    mel = np.mean(librosa.feature.melspectrogram(y=data, sr=sample_rate).T, axis=0)\n",
    "    result = np.hstack((result, mel)) # stacking horizontally\n",
    "\n",
    "    return result\n",
    "\n",
    "def get_features(path):\n",
    "    # duration and offset are used to take care of the no audio in start and the ending of each audio files as seen above.\n",
    "    data, sample_rate = librosa.load(path, duration=2.5, offset=0.6)\n",
    "\n",
    "    # without augmentation\n",
    "    res1 = extract_features(data)\n",
    "    result = np.array(res1)\n",
    "\n",
    "    # data with noise\n",
    "    noise_data = noise(data)\n",
    "    res2 = extract_features(noise_data)\n",
    "    result = np.vstack((result, res2)) # stacking vertically\n",
    "\n",
    "    # data with stretching and pitching\n",
    "    new_data = stretch(data)\n",
    "    data_stretch_pitch = pitch(new_data, sample_rate)\n",
    "    res3 = extract_features(data_stretch_pitch)\n",
    "    result = np.vstack((result, res3)) # stacking vertically\n",
    "\n",
    "    return result"
   ]
  },
  {
   "cell_type": "code",
   "execution_count": 61,
   "id": "f3625636",
   "metadata": {
    "execution": {
     "iopub.execute_input": "2024-03-29T03:15:17.930220Z",
     "iopub.status.busy": "2024-03-29T03:15:17.929395Z",
     "iopub.status.idle": "2024-03-29T03:24:34.598521Z",
     "shell.execute_reply": "2024-03-29T03:24:34.596456Z"
    },
    "id": "f3625636",
    "papermill": {
     "duration": 556.726445,
     "end_time": "2024-03-29T03:24:34.606811",
     "exception": false,
     "start_time": "2024-03-29T03:15:17.880366",
     "status": "completed"
    },
    "tags": []
   },
   "outputs": [],
   "source": [
    "import pickle\n",
    "X, Y = [], []\n",
    "for path, emotion in zip(RAV_df.path, RAV_df.emotion):\n",
    "    feature = get_features(path)\n",
    "    for ele in feature:\n",
    "        X.append(ele)\n",
    "        # appending emotion 3 times as we have made 3 augmentation techniques on each audio file.\n",
    "        Y.append(emotion)"
   ]
  },
  {
   "cell_type": "code",
   "execution_count": 62,
   "id": "1b90371d",
   "metadata": {
    "colab": {
     "base_uri": "https://localhost:8080/"
    },
    "execution": {
     "iopub.execute_input": "2024-03-29T03:24:34.781102Z",
     "iopub.status.busy": "2024-03-29T03:24:34.780585Z",
     "iopub.status.idle": "2024-03-29T03:24:34.789469Z",
     "shell.execute_reply": "2024-03-29T03:24:34.787986Z"
    },
    "id": "1b90371d",
    "outputId": "f093c77e-02bd-410e-d107-8621ec1c7645",
    "papermill": {
     "duration": 0.062507,
     "end_time": "2024-03-29T03:24:34.792575",
     "exception": false,
     "start_time": "2024-03-29T03:24:34.730068",
     "status": "completed"
    },
    "tags": []
   },
   "outputs": [
    {
     "data": {
      "text/plain": [
       "(4320, 4320, (1440,))"
      ]
     },
     "execution_count": 62,
     "metadata": {},
     "output_type": "execute_result"
    }
   ],
   "source": [
    "len(X), len(Y), RAV_df.path.shape"
   ]
  },
  {
   "cell_type": "code",
   "execution_count": 63,
   "id": "378b54e0",
   "metadata": {
    "execution": {
     "iopub.execute_input": "2024-03-29T03:24:34.891410Z",
     "iopub.status.busy": "2024-03-29T03:24:34.890981Z",
     "iopub.status.idle": "2024-03-29T03:24:37.092682Z",
     "shell.execute_reply": "2024-03-29T03:24:37.091385Z"
    },
    "id": "378b54e0",
    "papermill": {
     "duration": 2.255439,
     "end_time": "2024-03-29T03:24:37.096009",
     "exception": false,
     "start_time": "2024-03-29T03:24:34.840570",
     "status": "completed"
    },
    "tags": []
   },
   "outputs": [],
   "source": [
    "Features = pd.DataFrame(X)\n",
    "Features['labels'] = Y\n",
    "Features.to_csv('features.csv', index=False)"
   ]
  },
  {
   "cell_type": "code",
   "execution_count": 64,
   "id": "d5a6127c",
   "metadata": {
    "execution": {
     "iopub.execute_input": "2024-03-29T03:24:37.699308Z",
     "iopub.status.busy": "2024-03-29T03:24:37.698864Z",
     "iopub.status.idle": "2024-03-29T03:24:37.709120Z",
     "shell.execute_reply": "2024-03-29T03:24:37.707815Z"
    },
    "id": "d5a6127c",
    "papermill": {
     "duration": 0.068767,
     "end_time": "2024-03-29T03:24:37.712363",
     "exception": false,
     "start_time": "2024-03-29T03:24:37.643596",
     "status": "completed"
    },
    "tags": []
   },
   "outputs": [],
   "source": [
    "X = Features.iloc[: ,:-1].values\n",
    "Y = Features['labels'].values"
   ]
  },
  {
   "cell_type": "code",
   "execution_count": 65,
   "id": "94b721fc",
   "metadata": {
    "execution": {
     "iopub.execute_input": "2024-03-29T03:24:37.812997Z",
     "iopub.status.busy": "2024-03-29T03:24:37.812520Z",
     "iopub.status.idle": "2024-03-29T03:24:37.823540Z",
     "shell.execute_reply": "2024-03-29T03:24:37.822615Z"
    },
    "id": "94b721fc",
    "papermill": {
     "duration": 0.063798,
     "end_time": "2024-03-29T03:24:37.825904",
     "exception": false,
     "start_time": "2024-03-29T03:24:37.762106",
     "status": "completed"
    },
    "tags": []
   },
   "outputs": [],
   "source": [
    "encoder = OneHotEncoder()\n",
    "Y = encoder.fit_transform(np.array(Y).reshape(-1,1)).toarray()\n",
    "# Save the encoder\n",
    "with open('encoder.pkl', 'wb') as f:\n",
    "    pickle.dump(encoder, f)"
   ]
  },
  {
   "cell_type": "code",
   "execution_count": 66,
   "id": "196c70e5",
   "metadata": {
    "colab": {
     "base_uri": "https://localhost:8080/"
    },
    "execution": {
     "iopub.execute_input": "2024-03-29T03:24:37.926337Z",
     "iopub.status.busy": "2024-03-29T03:24:37.925635Z",
     "iopub.status.idle": "2024-03-29T03:24:37.940688Z",
     "shell.execute_reply": "2024-03-29T03:24:37.939341Z"
    },
    "id": "196c70e5",
    "outputId": "a01cd824-6312-4b6e-aa95-3dedee0f760b",
    "papermill": {
     "duration": 0.06828,
     "end_time": "2024-03-29T03:24:37.943497",
     "exception": false,
     "start_time": "2024-03-29T03:24:37.875217",
     "status": "completed"
    },
    "tags": []
   },
   "outputs": [
    {
     "data": {
      "text/plain": [
       "((3240, 162), (3240, 7), (1080, 162), (1080, 7))"
      ]
     },
     "execution_count": 66,
     "metadata": {},
     "output_type": "execute_result"
    }
   ],
   "source": [
    "x_train, x_test, y_train, y_test = train_test_split(X, Y, random_state=0, shuffle=True)\n",
    "x_train.shape, y_train.shape, x_test.shape, y_test.shape"
   ]
  },
  {
   "cell_type": "code",
   "execution_count": 67,
   "id": "aa86186f",
   "metadata": {
    "execution": {
     "iopub.execute_input": "2024-03-29T03:24:38.043130Z",
     "iopub.status.busy": "2024-03-29T03:24:38.042689Z",
     "iopub.status.idle": "2024-03-29T03:24:38.061343Z",
     "shell.execute_reply": "2024-03-29T03:24:38.059889Z"
    },
    "id": "aa86186f",
    "papermill": {
     "duration": 0.072294,
     "end_time": "2024-03-29T03:24:38.064423",
     "exception": false,
     "start_time": "2024-03-29T03:24:37.992129",
     "status": "completed"
    },
    "tags": []
   },
   "outputs": [],
   "source": [
    "scaler = StandardScaler()\n",
    "x_train = scaler.fit_transform(x_train)\n",
    "x_test = scaler.transform(x_test)\n",
    "x_train.shape, y_train.shape, x_test.shape, y_test.shape\n",
    "# Save the scaler\n",
    "with open('scaler.pkl', 'wb') as f:\n",
    "    pickle.dump(scaler, f)"
   ]
  },
  {
   "cell_type": "code",
   "execution_count": 68,
   "id": "e3042aa3",
   "metadata": {
    "colab": {
     "base_uri": "https://localhost:8080/"
    },
    "execution": {
     "iopub.execute_input": "2024-03-29T03:24:38.165818Z",
     "iopub.status.busy": "2024-03-29T03:24:38.165359Z",
     "iopub.status.idle": "2024-03-29T03:24:38.174254Z",
     "shell.execute_reply": "2024-03-29T03:24:38.172724Z"
    },
    "id": "e3042aa3",
    "outputId": "6aee92d3-9a09-4167-a9a5-c41a77ca33e5",
    "papermill": {
     "duration": 0.062393,
     "end_time": "2024-03-29T03:24:38.176740",
     "exception": false,
     "start_time": "2024-03-29T03:24:38.114347",
     "status": "completed"
    },
    "tags": []
   },
   "outputs": [
    {
     "data": {
      "text/plain": [
       "((3240, 162, 1), (3240, 7), (1080, 162, 1), (1080, 7))"
      ]
     },
     "execution_count": 68,
     "metadata": {},
     "output_type": "execute_result"
    }
   ],
   "source": [
    "x_train = np.expand_dims(x_train, axis=2)\n",
    "x_test = np.expand_dims(x_test, axis=2)\n",
    "x_train.shape, y_train.shape, x_test.shape, y_test.shape"
   ]
  },
  {
   "cell_type": "code",
   "execution_count": 69,
   "id": "1a8ba7e2",
   "metadata": {
    "colab": {
     "base_uri": "https://localhost:8080/"
    },
    "execution": {
     "iopub.execute_input": "2024-03-29T03:24:38.373829Z",
     "iopub.status.busy": "2024-03-29T03:24:38.373361Z",
     "iopub.status.idle": "2024-03-29T03:24:38.657067Z",
     "shell.execute_reply": "2024-03-29T03:24:38.656068Z"
    },
    "id": "1a8ba7e2",
    "outputId": "41217ca4-d769-4b63-a870-a8b203f92869",
    "papermill": {
     "duration": 0.337053,
     "end_time": "2024-03-29T03:24:38.659408",
     "exception": false,
     "start_time": "2024-03-29T03:24:38.322355",
     "status": "completed"
    },
    "tags": []
   },
   "outputs": [
    {
     "name": "stdout",
     "output_type": "stream",
     "text": [
      "Model: \"sequential_4\"\n",
      "_________________________________________________________________\n",
      " Layer (type)                Output Shape              Param #   \n",
      "=================================================================\n",
      " conv1d_15 (Conv1D)          (None, 162, 512)          3072      \n",
      "                                                                 \n",
      " batch_normalization_18 (Ba  (None, 162, 512)          2048      \n",
      " tchNormalization)                                               \n",
      "                                                                 \n",
      " max_pooling1d_15 (MaxPooli  (None, 81, 512)           0         \n",
      " ng1D)                                                           \n",
      "                                                                 \n",
      " conv1d_16 (Conv1D)          (None, 81, 512)           1311232   \n",
      "                                                                 \n",
      " batch_normalization_19 (Ba  (None, 81, 512)           2048      \n",
      " tchNormalization)                                               \n",
      "                                                                 \n",
      " max_pooling1d_16 (MaxPooli  (None, 41, 512)           0         \n",
      " ng1D)                                                           \n",
      "                                                                 \n",
      " dropout_9 (Dropout)         (None, 41, 512)           0         \n",
      "                                                                 \n",
      " conv1d_17 (Conv1D)          (None, 41, 256)           655616    \n",
      "                                                                 \n",
      " batch_normalization_20 (Ba  (None, 41, 256)           1024      \n",
      " tchNormalization)                                               \n",
      "                                                                 \n",
      " max_pooling1d_17 (MaxPooli  (None, 21, 256)           0         \n",
      " ng1D)                                                           \n",
      "                                                                 \n",
      " conv1d_18 (Conv1D)          (None, 21, 256)           196864    \n",
      "                                                                 \n",
      " batch_normalization_21 (Ba  (None, 21, 256)           1024      \n",
      " tchNormalization)                                               \n",
      "                                                                 \n",
      " max_pooling1d_18 (MaxPooli  (None, 11, 256)           0         \n",
      " ng1D)                                                           \n",
      "                                                                 \n",
      " dropout_10 (Dropout)        (None, 11, 256)           0         \n",
      "                                                                 \n",
      " conv1d_19 (Conv1D)          (None, 11, 128)           98432     \n",
      "                                                                 \n",
      " batch_normalization_22 (Ba  (None, 11, 128)           512       \n",
      " tchNormalization)                                               \n",
      "                                                                 \n",
      " max_pooling1d_19 (MaxPooli  (None, 6, 128)            0         \n",
      " ng1D)                                                           \n",
      "                                                                 \n",
      " dropout_11 (Dropout)        (None, 6, 128)            0         \n",
      "                                                                 \n",
      " flatten_3 (Flatten)         (None, 768)               0         \n",
      "                                                                 \n",
      " dense_6 (Dense)             (None, 512)               393728    \n",
      "                                                                 \n",
      " batch_normalization_23 (Ba  (None, 512)               2048      \n",
      " tchNormalization)                                               \n",
      "                                                                 \n",
      " dense_7 (Dense)             (None, 7)                 3591      \n",
      "                                                                 \n",
      "=================================================================\n",
      "Total params: 2671239 (10.19 MB)\n",
      "Trainable params: 2666887 (10.17 MB)\n",
      "Non-trainable params: 4352 (17.00 KB)\n",
      "_________________________________________________________________\n"
     ]
    }
   ],
   "source": [
    "model = Sequential()\n",
    "model.add(Conv1D(512, kernel_size=5, strides=1, padding='same', activation='relu', input_shape=(x_train.shape[1], 1)))\n",
    "model.add(BatchNormalization())\n",
    "model.add(MaxPooling1D(pool_size=5, strides=2, padding='same'))\n",
    "\n",
    "model.add(Conv1D(512, kernel_size=5, strides=1, padding='same', activation='relu'))\n",
    "model.add(BatchNormalization())\n",
    "model.add(MaxPooling1D(pool_size=5, strides=2, padding='same'))\n",
    "model.add(Dropout(0.2))\n",
    "\n",
    "model.add(Conv1D(256, kernel_size=5, strides=1, padding='same', activation='relu'))\n",
    "model.add(BatchNormalization())\n",
    "model.add(MaxPooling1D(pool_size=5, strides=2, padding='same'))\n",
    "\n",
    "model.add(Conv1D(256, kernel_size=3, strides=1, padding='same', activation='relu'))\n",
    "model.add(BatchNormalization())\n",
    "model.add(MaxPooling1D(pool_size=5, strides=2, padding='same'))\n",
    "model.add(Dropout(0.2))\n",
    "\n",
    "model.add(Conv1D(128, kernel_size=3, strides=1, padding='same', activation='relu'))\n",
    "model.add(BatchNormalization())\n",
    "model.add(MaxPooling1D(pool_size=3, strides=2, padding='same'))\n",
    "model.add(Dropout(0.2))\n",
    "\n",
    "model.add(Flatten())\n",
    "model.add(Dense(512, activation='relu'))\n",
    "model.add(BatchNormalization())\n",
    "model.add(Dense(7, activation='softmax'))\n",
    "model.compile(optimizer='adam', loss='categorical_crossentropy', metrics=['accuracy'])\n",
    "\n",
    "model.summary()"
   ]
  },
  {
   "cell_type": "markdown",
   "id": "b4195dc4",
   "metadata": {
    "id": "b4195dc4",
    "papermill": {
     "duration": 0.050623,
     "end_time": "2024-03-29T03:24:38.765607",
     "exception": false,
     "start_time": "2024-03-29T03:24:38.714984",
     "status": "completed"
    },
    "tags": []
   },
   "source": [
    "### 8. Training :"
   ]
  },
  {
   "cell_type": "code",
   "execution_count": 70,
   "id": "e227504e",
   "metadata": {
    "colab": {
     "base_uri": "https://localhost:8080/"
    },
    "execution": {
     "iopub.execute_input": "2024-03-29T03:24:38.868948Z",
     "iopub.status.busy": "2024-03-29T03:24:38.868450Z",
     "iopub.status.idle": "2024-03-29T03:31:53.598601Z",
     "shell.execute_reply": "2024-03-29T03:31:53.597306Z"
    },
    "id": "e227504e",
    "outputId": "1ad60552-1e9f-4739-f492-8d515d8b45b5",
    "papermill": {
     "duration": 434.786076,
     "end_time": "2024-03-29T03:31:53.602001",
     "exception": false,
     "start_time": "2024-03-29T03:24:38.815925",
     "status": "completed"
    },
    "tags": []
   },
   "outputs": [
    {
     "name": "stdout",
     "output_type": "stream",
     "text": [
      "Epoch 1/100\n",
      "102/102 [==============================] - 81s 26ms/step - loss: 2.0230 - accuracy: 0.2772 - val_loss: 2.0566 - val_accuracy: 0.2593 - lr: 0.0010\n",
      "Epoch 2/100\n",
      "102/102 [==============================] - 2s 23ms/step - loss: 1.6958 - accuracy: 0.3611 - val_loss: 2.5851 - val_accuracy: 0.2352 - lr: 0.0010\n",
      "Epoch 3/100\n",
      "102/102 [==============================] - 2s 19ms/step - loss: 1.6549 - accuracy: 0.3836 - val_loss: 2.1898 - val_accuracy: 0.2741 - lr: 0.0010\n",
      "Epoch 4/100\n",
      "102/102 [==============================] - 2s 19ms/step - loss: 1.5790 - accuracy: 0.4003 - val_loss: 2.2552 - val_accuracy: 0.2917 - lr: 0.0010\n",
      "Epoch 5/100\n",
      "102/102 [==============================] - 2s 19ms/step - loss: 1.4969 - accuracy: 0.4349 - val_loss: 2.1766 - val_accuracy: 0.3194 - lr: 0.0010\n",
      "Epoch 6/100\n",
      "102/102 [==============================] - 2s 20ms/step - loss: 1.4435 - accuracy: 0.4565 - val_loss: 2.2485 - val_accuracy: 0.1722 - lr: 0.0010\n",
      "Epoch 7/100\n",
      "102/102 [==============================] - 2s 19ms/step - loss: 1.4376 - accuracy: 0.4540 - val_loss: 1.9556 - val_accuracy: 0.3657 - lr: 0.0010\n",
      "Epoch 8/100\n",
      "102/102 [==============================] - 2s 22ms/step - loss: 1.4087 - accuracy: 0.4778 - val_loss: 2.0638 - val_accuracy: 0.3657 - lr: 0.0010\n",
      "Epoch 9/100\n",
      "102/102 [==============================] - 2s 21ms/step - loss: 1.3124 - accuracy: 0.5093 - val_loss: 1.5298 - val_accuracy: 0.4204 - lr: 0.0010\n",
      "Epoch 10/100\n",
      "102/102 [==============================] - 2s 20ms/step - loss: 1.3054 - accuracy: 0.5090 - val_loss: 1.7673 - val_accuracy: 0.4056 - lr: 0.0010\n",
      "Epoch 11/100\n",
      "102/102 [==============================] - 2s 21ms/step - loss: 1.2811 - accuracy: 0.5207 - val_loss: 2.6269 - val_accuracy: 0.3843 - lr: 0.0010\n",
      "Epoch 12/100\n",
      "102/102 [==============================] - 2s 19ms/step - loss: 1.2292 - accuracy: 0.5389 - val_loss: 2.0772 - val_accuracy: 0.3176 - lr: 0.0010\n",
      "Epoch 13/100\n",
      "102/102 [==============================] - 2s 19ms/step - loss: 1.1875 - accuracy: 0.5586 - val_loss: 3.1158 - val_accuracy: 0.3120 - lr: 0.0010\n",
      "Epoch 14/100\n",
      "102/102 [==============================] - 2s 21ms/step - loss: 1.1720 - accuracy: 0.5630 - val_loss: 1.4085 - val_accuracy: 0.4741 - lr: 0.0010\n",
      "Epoch 15/100\n",
      "102/102 [==============================] - 2s 24ms/step - loss: 1.1186 - accuracy: 0.5895 - val_loss: 1.3736 - val_accuracy: 0.4880 - lr: 0.0010\n",
      "Epoch 16/100\n",
      "102/102 [==============================] - 2s 20ms/step - loss: 1.0888 - accuracy: 0.5988 - val_loss: 1.7997 - val_accuracy: 0.3944 - lr: 0.0010\n",
      "Epoch 17/100\n",
      "102/102 [==============================] - 2s 19ms/step - loss: 1.0325 - accuracy: 0.6179 - val_loss: 2.0773 - val_accuracy: 0.3333 - lr: 0.0010\n",
      "Epoch 18/100\n",
      "102/102 [==============================] - 2s 19ms/step - loss: 1.0197 - accuracy: 0.6318 - val_loss: 1.6607 - val_accuracy: 0.4731 - lr: 0.0010\n",
      "Epoch 19/100\n",
      "102/102 [==============================] - 2s 21ms/step - loss: 0.9926 - accuracy: 0.6389 - val_loss: 1.9377 - val_accuracy: 0.3889 - lr: 0.0010\n",
      "Epoch 20/100\n",
      "102/102 [==============================] - 2s 21ms/step - loss: 0.9477 - accuracy: 0.6528 - val_loss: 1.1419 - val_accuracy: 0.5796 - lr: 0.0010\n",
      "Epoch 21/100\n",
      "102/102 [==============================] - 2s 22ms/step - loss: 0.9613 - accuracy: 0.6481 - val_loss: 1.9018 - val_accuracy: 0.4083 - lr: 0.0010\n",
      "Epoch 22/100\n",
      "102/102 [==============================] - 2s 20ms/step - loss: 0.8788 - accuracy: 0.6744 - val_loss: 1.5636 - val_accuracy: 0.4315 - lr: 0.0010\n",
      "Epoch 23/100\n",
      "102/102 [==============================] - 2s 20ms/step - loss: 0.8327 - accuracy: 0.6923 - val_loss: 1.6658 - val_accuracy: 0.4519 - lr: 0.0010\n",
      "Epoch 24/100\n",
      "102/102 [==============================] - 2s 20ms/step - loss: 0.8004 - accuracy: 0.7105 - val_loss: 1.1614 - val_accuracy: 0.5759 - lr: 0.0010\n",
      "Epoch 25/100\n",
      "102/102 [==============================] - 2s 19ms/step - loss: 0.7835 - accuracy: 0.7154 - val_loss: 1.2852 - val_accuracy: 0.5556 - lr: 0.0010\n",
      "Epoch 26/100\n",
      "102/102 [==============================] - 2s 19ms/step - loss: 0.7317 - accuracy: 0.7349 - val_loss: 1.2324 - val_accuracy: 0.5898 - lr: 0.0010\n",
      "Epoch 27/100\n",
      "102/102 [==============================] - 2s 22ms/step - loss: 0.7026 - accuracy: 0.7460 - val_loss: 1.5834 - val_accuracy: 0.4981 - lr: 0.0010\n",
      "Epoch 28/100\n",
      "102/102 [==============================] - 2s 22ms/step - loss: 0.6903 - accuracy: 0.7580 - val_loss: 1.6764 - val_accuracy: 0.4796 - lr: 0.0010\n",
      "Epoch 29/100\n",
      "102/102 [==============================] - 2s 19ms/step - loss: 0.6747 - accuracy: 0.7549 - val_loss: 1.9464 - val_accuracy: 0.4130 - lr: 0.0010\n",
      "Epoch 30/100\n",
      "102/102 [==============================] - 2s 19ms/step - loss: 0.5873 - accuracy: 0.7892 - val_loss: 1.3467 - val_accuracy: 0.5704 - lr: 0.0010\n",
      "Epoch 31/100\n",
      "102/102 [==============================] - 2s 21ms/step - loss: 0.5901 - accuracy: 0.7938 - val_loss: 1.5576 - val_accuracy: 0.5537 - lr: 0.0010\n",
      "Epoch 32/100\n",
      "102/102 [==============================] - 2s 19ms/step - loss: 0.5619 - accuracy: 0.8015 - val_loss: 1.2239 - val_accuracy: 0.5981 - lr: 0.0010\n",
      "Epoch 33/100\n",
      "102/102 [==============================] - 2s 21ms/step - loss: 0.5097 - accuracy: 0.8127 - val_loss: 1.6483 - val_accuracy: 0.5102 - lr: 0.0010\n",
      "Epoch 34/100\n",
      "102/102 [==============================] - 2s 22ms/step - loss: 0.4736 - accuracy: 0.8327 - val_loss: 1.7209 - val_accuracy: 0.5667 - lr: 0.0010\n",
      "Epoch 35/100\n",
      "102/102 [==============================] - 2s 20ms/step - loss: 0.4998 - accuracy: 0.8182 - val_loss: 2.0583 - val_accuracy: 0.4731 - lr: 0.0010\n",
      "Epoch 36/100\n",
      "102/102 [==============================] - 2s 19ms/step - loss: 0.4066 - accuracy: 0.8549 - val_loss: 1.8563 - val_accuracy: 0.5074 - lr: 0.0010\n",
      "Epoch 37/100\n",
      "102/102 [==============================] - 2s 19ms/step - loss: 0.4203 - accuracy: 0.8478 - val_loss: 1.1184 - val_accuracy: 0.6537 - lr: 0.0010\n",
      "Epoch 38/100\n",
      "102/102 [==============================] - 2s 20ms/step - loss: 0.3387 - accuracy: 0.8790 - val_loss: 1.6412 - val_accuracy: 0.5852 - lr: 0.0010\n",
      "Epoch 39/100\n",
      "102/102 [==============================] - 2s 21ms/step - loss: 0.3857 - accuracy: 0.8630 - val_loss: 1.2830 - val_accuracy: 0.6213 - lr: 0.0010\n",
      "Epoch 40/100\n",
      "102/102 [==============================] - 2s 23ms/step - loss: 0.3449 - accuracy: 0.8753 - val_loss: 1.2565 - val_accuracy: 0.6324 - lr: 0.0010\n",
      "Epoch 41/100\n",
      "102/102 [==============================] - 2s 21ms/step - loss: 0.3267 - accuracy: 0.8812 - val_loss: 1.8654 - val_accuracy: 0.5315 - lr: 0.0010\n",
      "Epoch 42/100\n",
      "102/102 [==============================] - 2s 19ms/step - loss: 0.3372 - accuracy: 0.8821 - val_loss: 2.5572 - val_accuracy: 0.4241 - lr: 0.0010\n",
      "Epoch 43/100\n",
      "102/102 [==============================] - 2s 19ms/step - loss: 0.2671 - accuracy: 0.9049 - val_loss: 1.9702 - val_accuracy: 0.4954 - lr: 0.0010\n",
      "Epoch 44/100\n",
      "102/102 [==============================] - 2s 19ms/step - loss: 0.3088 - accuracy: 0.8923 - val_loss: 1.6005 - val_accuracy: 0.5685 - lr: 0.0010\n",
      "Epoch 45/100\n",
      "102/102 [==============================] - 2s 21ms/step - loss: 0.2548 - accuracy: 0.9099 - val_loss: 1.2667 - val_accuracy: 0.6537 - lr: 0.0010\n",
      "Epoch 46/100\n",
      "102/102 [==============================] - 2s 21ms/step - loss: 0.2328 - accuracy: 0.9182 - val_loss: 1.5692 - val_accuracy: 0.5861 - lr: 0.0010\n",
      "Epoch 47/100\n",
      "102/102 [==============================] - 2s 23ms/step - loss: 0.2666 - accuracy: 0.9077 - val_loss: 1.3276 - val_accuracy: 0.6593 - lr: 0.0010\n",
      "Epoch 48/100\n",
      "102/102 [==============================] - 2s 20ms/step - loss: 0.2667 - accuracy: 0.9009 - val_loss: 1.6714 - val_accuracy: 0.6074 - lr: 0.0010\n",
      "Epoch 49/100\n",
      "102/102 [==============================] - 2s 19ms/step - loss: 0.1944 - accuracy: 0.9333 - val_loss: 1.4471 - val_accuracy: 0.6231 - lr: 0.0010\n",
      "Epoch 50/100\n",
      "102/102 [==============================] - 2s 19ms/step - loss: 0.3008 - accuracy: 0.8969 - val_loss: 1.9714 - val_accuracy: 0.5639 - lr: 0.0010\n",
      "Epoch 51/100\n",
      "102/102 [==============================] - 2s 19ms/step - loss: 0.2371 - accuracy: 0.9176 - val_loss: 1.7816 - val_accuracy: 0.5806 - lr: 0.0010\n",
      "Epoch 52/100\n",
      "102/102 [==============================] - 2s 21ms/step - loss: 0.2414 - accuracy: 0.9123 - val_loss: 1.7766 - val_accuracy: 0.5917 - lr: 0.0010\n",
      "Epoch 53/100\n",
      "102/102 [==============================] - 2s 23ms/step - loss: 0.1945 - accuracy: 0.9340 - val_loss: 1.2115 - val_accuracy: 0.6583 - lr: 0.0010\n",
      "Epoch 54/100\n",
      "102/102 [==============================] - 2s 20ms/step - loss: 0.1158 - accuracy: 0.9586 - val_loss: 1.1455 - val_accuracy: 0.6972 - lr: 4.0000e-04\n",
      "Epoch 55/100\n",
      "102/102 [==============================] - 2s 19ms/step - loss: 0.0754 - accuracy: 0.9762 - val_loss: 0.9984 - val_accuracy: 0.7259 - lr: 4.0000e-04\n",
      "Epoch 56/100\n",
      "102/102 [==============================] - 2s 19ms/step - loss: 0.0732 - accuracy: 0.9753 - val_loss: 0.9318 - val_accuracy: 0.7611 - lr: 4.0000e-04\n",
      "Epoch 57/100\n",
      "102/102 [==============================] - 2s 19ms/step - loss: 0.0607 - accuracy: 0.9799 - val_loss: 0.9260 - val_accuracy: 0.7630 - lr: 4.0000e-04\n",
      "Epoch 58/100\n",
      "102/102 [==============================] - 2s 21ms/step - loss: 0.0500 - accuracy: 0.9864 - val_loss: 0.9671 - val_accuracy: 0.7509 - lr: 4.0000e-04\n",
      "Epoch 59/100\n",
      "102/102 [==============================] - 2s 23ms/step - loss: 0.0489 - accuracy: 0.9858 - val_loss: 1.0584 - val_accuracy: 0.7241 - lr: 4.0000e-04\n",
      "Epoch 60/100\n",
      "102/102 [==============================] - 2s 23ms/step - loss: 0.0405 - accuracy: 0.9880 - val_loss: 1.0386 - val_accuracy: 0.7556 - lr: 4.0000e-04\n",
      "Epoch 61/100\n",
      "102/102 [==============================] - 2s 21ms/step - loss: 0.0452 - accuracy: 0.9861 - val_loss: 1.6063 - val_accuracy: 0.6370 - lr: 4.0000e-04\n",
      "Epoch 62/100\n",
      "102/102 [==============================] - 2s 19ms/step - loss: 0.0478 - accuracy: 0.9846 - val_loss: 1.1854 - val_accuracy: 0.7204 - lr: 4.0000e-04\n",
      "Epoch 63/100\n",
      "102/102 [==============================] - 2s 21ms/step - loss: 0.0723 - accuracy: 0.9775 - val_loss: 0.9360 - val_accuracy: 0.7667 - lr: 4.0000e-04\n",
      "Epoch 64/100\n",
      "102/102 [==============================] - 2s 21ms/step - loss: 0.0418 - accuracy: 0.9870 - val_loss: 1.1562 - val_accuracy: 0.7454 - lr: 4.0000e-04\n",
      "Epoch 65/100\n",
      "102/102 [==============================] - 2s 23ms/step - loss: 0.0387 - accuracy: 0.9883 - val_loss: 0.9808 - val_accuracy: 0.7694 - lr: 1.6000e-04\n",
      "Epoch 66/100\n",
      "102/102 [==============================] - 2s 22ms/step - loss: 0.0253 - accuracy: 0.9914 - val_loss: 0.9377 - val_accuracy: 0.7769 - lr: 1.6000e-04\n",
      "Epoch 67/100\n",
      "102/102 [==============================] - 2s 21ms/step - loss: 0.0260 - accuracy: 0.9923 - val_loss: 0.9842 - val_accuracy: 0.7694 - lr: 1.6000e-04\n",
      "Epoch 68/100\n",
      "102/102 [==============================] - 2s 20ms/step - loss: 0.0255 - accuracy: 0.9904 - val_loss: 0.9113 - val_accuracy: 0.7889 - lr: 1.6000e-04\n",
      "Epoch 69/100\n",
      "102/102 [==============================] - 2s 21ms/step - loss: 0.0212 - accuracy: 0.9938 - val_loss: 0.9031 - val_accuracy: 0.7861 - lr: 1.6000e-04\n",
      "Epoch 70/100\n",
      "102/102 [==============================] - 2s 19ms/step - loss: 0.0198 - accuracy: 0.9948 - val_loss: 0.9522 - val_accuracy: 0.7815 - lr: 1.6000e-04\n",
      "Epoch 71/100\n",
      "102/102 [==============================] - 2s 22ms/step - loss: 0.0235 - accuracy: 0.9920 - val_loss: 0.9922 - val_accuracy: 0.7676 - lr: 1.6000e-04\n",
      "Epoch 72/100\n",
      "102/102 [==============================] - 2s 24ms/step - loss: 0.0155 - accuracy: 0.9966 - val_loss: 1.0024 - val_accuracy: 0.7694 - lr: 1.6000e-04\n",
      "Epoch 73/100\n",
      "102/102 [==============================] - 2s 20ms/step - loss: 0.0190 - accuracy: 0.9954 - val_loss: 0.9414 - val_accuracy: 0.7796 - lr: 1.6000e-04\n",
      "Epoch 74/100\n",
      "102/102 [==============================] - 2s 20ms/step - loss: 0.0157 - accuracy: 0.9960 - val_loss: 0.9527 - val_accuracy: 0.7778 - lr: 1.6000e-04\n",
      "Epoch 75/100\n",
      "102/102 [==============================] - 2s 19ms/step - loss: 0.0162 - accuracy: 0.9963 - val_loss: 0.9843 - val_accuracy: 0.7824 - lr: 1.6000e-04\n",
      "Epoch 76/100\n",
      "102/102 [==============================] - 2s 20ms/step - loss: 0.0139 - accuracy: 0.9972 - val_loss: 0.9750 - val_accuracy: 0.7870 - lr: 1.6000e-04\n",
      "Epoch 77/100\n",
      "102/102 [==============================] - 2s 20ms/step - loss: 0.0150 - accuracy: 0.9963 - val_loss: 1.0431 - val_accuracy: 0.7685 - lr: 1.6000e-04\n",
      "Epoch 78/100\n",
      "102/102 [==============================] - 2s 23ms/step - loss: 0.0173 - accuracy: 0.9957 - val_loss: 1.0040 - val_accuracy: 0.7713 - lr: 1.6000e-04\n",
      "Epoch 79/100\n",
      "102/102 [==============================] - 2s 22ms/step - loss: 0.0348 - accuracy: 0.9889 - val_loss: 1.0802 - val_accuracy: 0.7528 - lr: 1.6000e-04\n",
      "Epoch 80/100\n",
      "102/102 [==============================] - 2s 20ms/step - loss: 0.0233 - accuracy: 0.9929 - val_loss: 0.9969 - val_accuracy: 0.7694 - lr: 1.6000e-04\n",
      "Epoch 81/100\n",
      "102/102 [==============================] - 2s 19ms/step - loss: 0.0178 - accuracy: 0.9948 - val_loss: 0.9783 - val_accuracy: 0.7685 - lr: 6.4000e-05\n",
      "Epoch 82/100\n",
      "102/102 [==============================] - 2s 20ms/step - loss: 0.0195 - accuracy: 0.9941 - val_loss: 0.9719 - val_accuracy: 0.7722 - lr: 6.4000e-05\n",
      "Epoch 83/100\n",
      "102/102 [==============================] - 2s 20ms/step - loss: 0.0121 - accuracy: 0.9972 - val_loss: 0.9738 - val_accuracy: 0.7685 - lr: 6.4000e-05\n",
      "Epoch 84/100\n",
      "102/102 [==============================] - 2s 22ms/step - loss: 0.0142 - accuracy: 0.9957 - val_loss: 0.9630 - val_accuracy: 0.7713 - lr: 6.4000e-05\n",
      "Epoch 85/100\n",
      "102/102 [==============================] - 2s 22ms/step - loss: 0.0154 - accuracy: 0.9954 - val_loss: 0.9836 - val_accuracy: 0.7833 - lr: 6.4000e-05\n",
      "Epoch 86/100\n",
      "102/102 [==============================] - 2s 21ms/step - loss: 0.0135 - accuracy: 0.9948 - val_loss: 0.9856 - val_accuracy: 0.7787 - lr: 6.4000e-05\n",
      "Epoch 87/100\n",
      "102/102 [==============================] - 2s 20ms/step - loss: 0.0141 - accuracy: 0.9954 - val_loss: 0.9751 - val_accuracy: 0.7806 - lr: 6.4000e-05\n",
      "Epoch 88/100\n",
      "102/102 [==============================] - 2s 20ms/step - loss: 0.0129 - accuracy: 0.9969 - val_loss: 0.9602 - val_accuracy: 0.7843 - lr: 2.5600e-05\n",
      "Epoch 89/100\n",
      "102/102 [==============================] - 2s 20ms/step - loss: 0.0130 - accuracy: 0.9960 - val_loss: 0.9536 - val_accuracy: 0.7815 - lr: 2.5600e-05\n",
      "Epoch 90/100\n",
      "102/102 [==============================] - 2s 21ms/step - loss: 0.0140 - accuracy: 0.9966 - val_loss: 0.9602 - val_accuracy: 0.7787 - lr: 2.5600e-05\n",
      "Epoch 91/100\n",
      "102/102 [==============================] - 2s 24ms/step - loss: 0.0136 - accuracy: 0.9951 - val_loss: 0.9590 - val_accuracy: 0.7741 - lr: 2.5600e-05\n",
      "Epoch 92/100\n",
      "102/102 [==============================] - 2s 21ms/step - loss: 0.0118 - accuracy: 0.9972 - val_loss: 0.9533 - val_accuracy: 0.7769 - lr: 1.0240e-05\n",
      "Epoch 93/100\n",
      "102/102 [==============================] - 2s 21ms/step - loss: 0.0118 - accuracy: 0.9966 - val_loss: 0.9559 - val_accuracy: 0.7750 - lr: 1.0240e-05\n",
      "Epoch 94/100\n",
      "102/102 [==============================] - 2s 19ms/step - loss: 0.0108 - accuracy: 0.9975 - val_loss: 0.9612 - val_accuracy: 0.7722 - lr: 1.0240e-05\n",
      "Epoch 95/100\n",
      "102/102 [==============================] - 2s 21ms/step - loss: 0.0093 - accuracy: 0.9978 - val_loss: 0.9623 - val_accuracy: 0.7741 - lr: 1.0240e-05\n",
      "Epoch 96/100\n",
      "102/102 [==============================] - 2s 20ms/step - loss: 0.0119 - accuracy: 0.9966 - val_loss: 0.9588 - val_accuracy: 0.7750 - lr: 1.0240e-05\n",
      "Epoch 97/100\n",
      "102/102 [==============================] - 2s 23ms/step - loss: 0.0097 - accuracy: 0.9985 - val_loss: 0.9597 - val_accuracy: 0.7759 - lr: 1.0240e-05\n",
      "Epoch 98/100\n",
      "102/102 [==============================] - 2s 22ms/step - loss: 0.0074 - accuracy: 0.9985 - val_loss: 0.9592 - val_accuracy: 0.7759 - lr: 1.0240e-05\n",
      "Epoch 99/100\n",
      "102/102 [==============================] - 2s 21ms/step - loss: 0.0128 - accuracy: 0.9969 - val_loss: 0.9637 - val_accuracy: 0.7787 - lr: 1.0240e-05\n",
      "Epoch 100/100\n",
      "102/102 [==============================] - 2s 19ms/step - loss: 0.0103 - accuracy: 0.9972 - val_loss: 0.9653 - val_accuracy: 0.7769 - lr: 1.0240e-05\n"
     ]
    }
   ],
   "source": [
    "rlrp = ReduceLROnPlateau(monitor='loss', factor=0.4, verbose=0, patience=4, min_lr=0.0000001)\n",
    "history=model.fit(x_train, y_train, batch_size=32, epochs=100, validation_data=(x_test, y_test), callbacks=[rlrp])"
   ]
  },
  {
   "cell_type": "markdown",
   "id": "70135f9f",
   "metadata": {
    "id": "70135f9f",
    "papermill": {
     "duration": 0.326305,
     "end_time": "2024-03-29T03:31:54.249412",
     "exception": false,
     "start_time": "2024-03-29T03:31:53.923107",
     "status": "completed"
    },
    "tags": []
   },
   "source": [
    "### 9. Evaluation :"
   ]
  },
  {
   "cell_type": "code",
   "execution_count": 72,
   "id": "e3585dc4",
   "metadata": {
    "colab": {
     "base_uri": "https://localhost:8080/",
     "height": 464
    },
    "execution": {
     "iopub.execute_input": "2024-03-29T03:31:54.863905Z",
     "iopub.status.busy": "2024-03-29T03:31:54.863409Z",
     "iopub.status.idle": "2024-03-29T03:31:56.042887Z",
     "shell.execute_reply": "2024-03-29T03:31:56.041523Z"
    },
    "id": "e3585dc4",
    "outputId": "4b6cf55f-3cec-4c95-d47e-3da32847bc86",
    "papermill": {
     "duration": 1.493079,
     "end_time": "2024-03-29T03:31:56.046778",
     "exception": false,
     "start_time": "2024-03-29T03:31:54.553699",
     "status": "completed"
    },
    "tags": []
   },
   "outputs": [
    {
     "name": "stdout",
     "output_type": "stream",
     "text": [
      "34/34 [==============================] - 0s 11ms/step - loss: 0.9653 - accuracy: 0.7769\n",
      "Accuracy of our model on test data :  77.68518328666687 %\n"
     ]
    },
    {
     "data": {
      "image/png": "[encoded data removed]",
      "text/plain": [
       "<Figure size 2000x600 with 2 Axes>"
      ]
     },
     "metadata": {},
     "output_type": "display_data"
    }
   ],
   "source": [
    "print(\"Accuracy of our model on test data : \" , model.evaluate(x_test,y_test)[1]*100 , \"%\")\n",
    "\n",
    "plt.style.use('seaborn-darkgrid')\n",
    "plt.rcParams.update({'font.size': 12})\n",
    "epochs = [i for i in range(100)]\n",
    "fig , ax = plt.subplots(1,2)\n",
    "train_acc = history.history['accuracy']\n",
    "train_loss = history.history['loss']\n",
    "test_acc = history.history['val_accuracy']\n",
    "test_loss = history.history['val_loss']\n",
    "\n",
    "fig.set_size_inches(20,6)\n",
    "ax[0].plot(epochs , train_loss , label = 'Training Loss',marker='o', linewidth=2)\n",
    "ax[0].plot(epochs , test_loss , label = 'Testing Loss',marker='.', linewidth=2)\n",
    "ax[0].set_title('Training & Testing Loss')\n",
    "ax[0].legend()\n",
    "ax[0].set_xlabel(\"Epochs\")\n",
    "\n",
    "ax[1].plot(epochs , train_acc , label = 'Training Accuracy',marker='o', linewidth=2)\n",
    "ax[1].plot(epochs , test_acc , label = 'Testing Accuracy',marker='.', linewidth=2)\n",
    "ax[1].set_title('Training & Testing Accuracy')\n",
    "ax[1].legend()\n",
    "ax[1].set_xlabel(\"Epochs\")\n",
    "\n",
    "plt.subplots_adjust(wspace=0.3)\n",
    "plt.show()"
   ]
  },
  {
   "cell_type": "code",
   "execution_count": 73,
   "id": "4e339cce",
   "metadata": {
    "colab": {
     "base_uri": "https://localhost:8080/"
    },
    "execution": {
     "iopub.execute_input": "2024-03-29T03:31:56.801508Z",
     "iopub.status.busy": "2024-03-29T03:31:56.800921Z",
     "iopub.status.idle": "2024-03-29T03:31:57.687202Z",
     "shell.execute_reply": "2024-03-29T03:31:57.685734Z"
    },
    "id": "4e339cce",
    "outputId": "8f2f8302-7cc1-42e7-96d4-965930c1a973",
    "papermill": {
     "duration": 1.199164,
     "end_time": "2024-03-29T03:31:57.690148",
     "exception": false,
     "start_time": "2024-03-29T03:31:56.490984",
     "status": "completed"
    },
    "tags": []
   },
   "outputs": [
    {
     "name": "stdout",
     "output_type": "stream",
     "text": [
      "34/34 [==============================] - 0s 7ms/step\n"
     ]
    }
   ],
   "source": [
    "pred_test = model.predict(x_test)\n",
    "y_pred = encoder.inverse_transform(pred_test)\n",
    "\n",
    "y_test = encoder.inverse_transform(y_test)"
   ]
  },
  {
   "cell_type": "code",
   "execution_count": 74,
   "id": "a3549204",
   "metadata": {
    "colab": {
     "base_uri": "https://localhost:8080/",
     "height": 206
    },
    "execution": {
     "iopub.execute_input": "2024-03-29T03:31:58.305556Z",
     "iopub.status.busy": "2024-03-29T03:31:58.304466Z",
     "iopub.status.idle": "2024-03-29T03:31:58.318815Z",
     "shell.execute_reply": "2024-03-29T03:31:58.317734Z"
    },
    "id": "a3549204",
    "outputId": "fb2c23e4-281a-43c9-e815-1014d565b7f3",
    "papermill": {
     "duration": 0.32392,
     "end_time": "2024-03-29T03:31:58.321100",
     "exception": false,
     "start_time": "2024-03-29T03:31:57.997180",
     "status": "completed"
    },
    "tags": []
   },
   "outputs": [
    {
     "data": {
      "application/vnd.google.colaboratory.intrinsic+json": {
       "summary": "{\n  \"name\": \"display(df\",\n  \"rows\": 5,\n  \"fields\": [\n    {\n      \"column\": \"Predicted Labels\",\n      \"properties\": {\n        \"dtype\": \"string\",\n        \"num_unique_values\": 5,\n        \"samples\": [\n          \"sad\",\n          \"angry\",\n          \"neutral\"\n        ],\n        \"semantic_type\": \"\",\n        \"description\": \"\"\n      }\n    },\n    {\n      \"column\": \"Actual Labels\",\n      \"properties\": {\n        \"dtype\": \"string\",\n        \"num_unique_values\": 5,\n        \"samples\": [\n          \"sad\",\n          \"angry\",\n          \"neutral\"\n        ],\n        \"semantic_type\": \"\",\n        \"description\": \"\"\n      }\n    }\n  ]\n}",
       "type": "dataframe"
      },
      "text/html": [
       "\n",
       "  <div id=\"df-d8a53d4a-de2a-4c30-97e3-dc743126f401\" class=\"colab-df-container\">\n",
       "    <div>\n",
       "<style scoped>\n",
       "    .dataframe tbody tr th:only-of-type {\n",
       "        vertical-align: middle;\n",
       "    }\n",
       "\n",
       "    .dataframe tbody tr th {\n",
       "        vertical-align: top;\n",
       "    }\n",
       "\n",
       "    .dataframe thead th {\n",
       "        text-align: right;\n",
       "    }\n",
       "</style>\n",
       "<table border=\"1\" class=\"dataframe\">\n",
       "  <thead>\n",
       "    <tr style=\"text-align: right;\">\n",
       "      <th></th>\n",
       "      <th>Predicted Labels</th>\n",
       "      <th>Actual Labels</th>\n",
       "    </tr>\n",
       "  </thead>\n",
       "  <tbody>\n",
       "    <tr>\n",
       "      <th>0</th>\n",
       "      <td>fear</td>\n",
       "      <td>fear</td>\n",
       "    </tr>\n",
       "    <tr>\n",
       "      <th>1</th>\n",
       "      <td>sad</td>\n",
       "      <td>sad</td>\n",
       "    </tr>\n",
       "    <tr>\n",
       "      <th>2</th>\n",
       "      <td>neutral</td>\n",
       "      <td>neutral</td>\n",
       "    </tr>\n",
       "    <tr>\n",
       "      <th>3</th>\n",
       "      <td>happy</td>\n",
       "      <td>happy</td>\n",
       "    </tr>\n",
       "    <tr>\n",
       "      <th>4</th>\n",
       "      <td>angry</td>\n",
       "      <td>angry</td>\n",
       "    </tr>\n",
       "  </tbody>\n",
       "</table>\n",
       "</div>\n",
       "    <div class=\"colab-df-buttons\">\n",
       "\n",
       "  <div class=\"colab-df-container\">\n",
       "    <button class=\"colab-df-convert\" onclick=\"convertToInteractive('df-d8a53d4a-de2a-4c30-97e3-dc743126f401')\"\n",
       "            title=\"Convert this dataframe to an interactive table.\"\n",
       "            style=\"display:none;\">\n",
       "\n",
       "  <svg xmlns=\"http://www.w3.org/2000/svg\" height=\"24px\" viewBox=\"0 -960 960 960\">\n",
       "    <path d=\"M120-120v-720h720v720H120Zm60-500h600v-160H180v160Zm220 220h160v-160H400v160Zm0 220h160v-160H400v160ZM180-400h160v-160H180v160Zm440 0h160v-160H620v160ZM180-180h160v-160H180v160Zm440 0h160v-160H620v160Z\"/>\n",
       "  </svg>\n",
       "    </button>\n",
       "\n",
       "  <style>\n",
       "    .colab-df-container {\n",
       "      display:flex;\n",
       "      gap: 12px;\n",
       "    }\n",
       "\n",
       "    .colab-df-convert {\n",
       "      background-color: #E8F0FE;\n",
       "      border: none;\n",
       "      border-radius: 50%;\n",
       "      cursor: pointer;\n",
       "      display: none;\n",
       "      fill: #1967D2;\n",
       "      height: 32px;\n",
       "      padding: 0 0 0 0;\n",
       "      width: 32px;\n",
       "    }\n",
       "\n",
       "    .colab-df-convert:hover {\n",
       "      background-color: #E2EBFA;\n",
       "      box-shadow: 0px 1px 2px rgba(60, 64, 67, 0.3), 0px 1px 3px 1px rgba(60, 64, 67, 0.15);\n",
       "      fill: #174EA6;\n",
       "    }\n",
       "\n",
       "    .colab-df-buttons div {\n",
       "      margin-bottom: 4px;\n",
       "    }\n",
       "\n",
       "    [theme=dark] .colab-df-convert {\n",
       "      background-color: #3B4455;\n",
       "      fill: #D2E3FC;\n",
       "    }\n",
       "\n",
       "    [theme=dark] .colab-df-convert:hover {\n",
       "      background-color: #434B5C;\n",
       "      box-shadow: 0px 1px 3px 1px rgba(0, 0, 0, 0.15);\n",
       "      filter: drop-shadow(0px 1px 2px rgba(0, 0, 0, 0.3));\n",
       "      fill: #FFFFFF;\n",
       "    }\n",
       "  </style>\n",
       "\n",
       "    <script>\n",
       "      const buttonEl =\n",
       "        document.querySelector('#df-d8a53d4a-de2a-4c30-97e3-dc743126f401 button.colab-df-convert');\n",
       "      buttonEl.style.display =\n",
       "        google.colab.kernel.accessAllowed ? 'block' : 'none';\n",
       "\n",
       "      async function convertToInteractive(key) {\n",
       "        const element = document.querySelector('#df-d8a53d4a-de2a-4c30-97e3-dc743126f401');\n",
       "        const dataTable =\n",
       "          await google.colab.kernel.invokeFunction('convertToInteractive',\n",
       "                                                    [key], {});\n",
       "        if (!dataTable) return;\n",
       "\n",
       "        const docLinkHtml = 'Like what you see? Visit the ' +\n",
       "          '<a target=\"_blank\" href=https://colab.research.google.com/notebooks/data_table.ipynb>data table notebook</a>'\n",
       "          + ' to learn more about interactive tables.';\n",
       "        element.innerHTML = '';\n",
       "        dataTable['output_type'] = 'display_data';\n",
       "        await google.colab.output.renderOutput(dataTable, element);\n",
       "        const docLink = document.createElement('div');\n",
       "        docLink.innerHTML = docLinkHtml;\n",
       "        element.appendChild(docLink);\n",
       "      }\n",
       "    </script>\n",
       "  </div>\n",
       "\n",
       "\n",
       "<div id=\"df-0487dfd7-ef9f-4241-b92f-c3a33dff7aa5\">\n",
       "  <button class=\"colab-df-quickchart\" onclick=\"quickchart('df-0487dfd7-ef9f-4241-b92f-c3a33dff7aa5')\"\n",
       "            title=\"Suggest charts\"\n",
       "            style=\"display:none;\">\n",
       "\n",
       "<svg xmlns=\"http://www.w3.org/2000/svg\" height=\"24px\"viewBox=\"0 0 24 24\"\n",
       "     width=\"24px\">\n",
       "    <g>\n",
       "        <path d=\"M19 3H5c-1.1 0-2 .9-2 2v14c0 1.1.9 2 2 2h14c1.1 0 2-.9 2-2V5c0-1.1-.9-2-2-2zM9 17H7v-7h2v7zm4 0h-2V7h2v10zm4 0h-2v-4h2v4z\"/>\n",
       "    </g>\n",
       "</svg>\n",
       "  </button>\n",
       "\n",
       "<style>\n",
       "  .colab-df-quickchart {\n",
       "      --bg-color: #E8F0FE;\n",
       "      --fill-color: #1967D2;\n",
       "      --hover-bg-color: #E2EBFA;\n",
       "      --hover-fill-color: #174EA6;\n",
       "      --disabled-fill-color: #AAA;\n",
       "      --disabled-bg-color: #DDD;\n",
       "  }\n",
       "\n",
       "  [theme=dark] .colab-df-quickchart {\n",
       "      --bg-color: #3B4455;\n",
       "      --fill-color: #D2E3FC;\n",
       "      --hover-bg-color: #434B5C;\n",
       "      --hover-fill-color: #FFFFFF;\n",
       "      --disabled-bg-color: #3B4455;\n",
       "      --disabled-fill-color: #666;\n",
       "  }\n",
       "\n",
       "  .colab-df-quickchart {\n",
       "    background-color: var(--bg-color);\n",
       "    border: none;\n",
       "    border-radius: 50%;\n",
       "    cursor: pointer;\n",
       "    display: none;\n",
       "    fill: var(--fill-color);\n",
       "    height: 32px;\n",
       "    padding: 0;\n",
       "    width: 32px;\n",
       "  }\n",
       "\n",
       "  .colab-df-quickchart:hover {\n",
       "    background-color: var(--hover-bg-color);\n",
       "    box-shadow: 0 1px 2px rgba(60, 64, 67, 0.3), 0 1px 3px 1px rgba(60, 64, 67, 0.15);\n",
       "    fill: var(--button-hover-fill-color);\n",
       "  }\n",
       "\n",
       "  .colab-df-quickchart-complete:disabled,\n",
       "  .colab-df-quickchart-complete:disabled:hover {\n",
       "    background-color: var(--disabled-bg-color);\n",
       "    fill: var(--disabled-fill-color);\n",
       "    box-shadow: none;\n",
       "  }\n",
       "\n",
       "  .colab-df-spinner {\n",
       "    border: 2px solid var(--fill-color);\n",
       "    border-color: transparent;\n",
       "    border-bottom-color: var(--fill-color);\n",
       "    animation:\n",
       "      spin 1s steps(1) infinite;\n",
       "  }\n",
       "\n",
       "  @keyframes spin {\n",
       "    0% {\n",
       "      border-color: transparent;\n",
       "      border-bottom-color: var(--fill-color);\n",
       "      border-left-color: var(--fill-color);\n",
       "    }\n",
       "    20% {\n",
       "      border-color: transparent;\n",
       "      border-left-color: var(--fill-color);\n",
       "      border-top-color: var(--fill-color);\n",
       "    }\n",
       "    30% {\n",
       "      border-color: transparent;\n",
       "      border-left-color: var(--fill-color);\n",
       "      border-top-color: var(--fill-color);\n",
       "      border-right-color: var(--fill-color);\n",
       "    }\n",
       "    40% {\n",
       "      border-color: transparent;\n",
       "      border-right-color: var(--fill-color);\n",
       "      border-top-color: var(--fill-color);\n",
       "    }\n",
       "    60% {\n",
       "      border-color: transparent;\n",
       "      border-right-color: var(--fill-color);\n",
       "    }\n",
       "    80% {\n",
       "      border-color: transparent;\n",
       "      border-right-color: var(--fill-color);\n",
       "      border-bottom-color: var(--fill-color);\n",
       "    }\n",
       "    90% {\n",
       "      border-color: transparent;\n",
       "      border-bottom-color: var(--fill-color);\n",
       "    }\n",
       "  }\n",
       "</style>\n",
       "\n",
       "  <script>\n",
       "    async function quickchart(key) {\n",
       "      const quickchartButtonEl =\n",
       "        document.querySelector('#' + key + ' button');\n",
       "      quickchartButtonEl.disabled = true;  // To prevent multiple clicks.\n",
       "      quickchartButtonEl.classList.add('colab-df-spinner');\n",
       "      try {\n",
       "        const charts = await google.colab.kernel.invokeFunction(\n",
       "            'suggestCharts', [key], {});\n",
       "      } catch (error) {\n",
       "        console.error('Error during call to suggestCharts:', error);\n",
       "      }\n",
       "      quickchartButtonEl.classList.remove('colab-df-spinner');\n",
       "      quickchartButtonEl.classList.add('colab-df-quickchart-complete');\n",
       "    }\n",
       "    (() => {\n",
       "      let quickchartButtonEl =\n",
       "        document.querySelector('#df-0487dfd7-ef9f-4241-b92f-c3a33dff7aa5 button');\n",
       "      quickchartButtonEl.style.display =\n",
       "        google.colab.kernel.accessAllowed ? 'block' : 'none';\n",
       "    })();\n",
       "  </script>\n",
       "</div>\n",
       "    </div>\n",
       "  </div>\n"
      ],
      "text/plain": [
       "  Predicted Labels Actual Labels\n",
       "0             fear          fear\n",
       "1              sad           sad\n",
       "2          neutral       neutral\n",
       "3            happy         happy\n",
       "4            angry         angry"
      ]
     },
     "metadata": {},
     "output_type": "display_data"
    }
   ],
   "source": [
    "df = pd.DataFrame(columns=['Predicted Labels', 'Actual Labels'])\n",
    "df['Predicted Labels'] = y_pred.flatten()\n",
    "df['Actual Labels'] = y_test.flatten()\n",
    "\n",
    "display(df.head())"
   ]
  },
  {
   "cell_type": "code",
   "execution_count": 75,
   "id": "dbc92ddf",
   "metadata": {
    "colab": {
     "base_uri": "https://localhost:8080/",
     "height": 877
    },
    "execution": {
     "iopub.execute_input": "2024-03-29T03:31:58.931789Z",
     "iopub.status.busy": "2024-03-29T03:31:58.931000Z",
     "iopub.status.idle": "2024-03-29T03:31:59.441688Z",
     "shell.execute_reply": "2024-03-29T03:31:59.440536Z"
    },
    "id": "dbc92ddf",
    "outputId": "2bfe1a8d-2f1f-497c-f460-bbbf74d7194f",
    "papermill": {
     "duration": 0.820848,
     "end_time": "2024-03-29T03:31:59.444721",
     "exception": false,
     "start_time": "2024-03-29T03:31:58.623873",
     "status": "completed"
    },
    "tags": []
   },
   "outputs": [
    {
     "data": {
      "image/png": "[encoded data removed]",
      "text/plain": [
       "<Figure size 1200x1000 with 2 Axes>"
      ]
     },
     "metadata": {},
     "output_type": "display_data"
    }
   ],
   "source": [
    "cm = confusion_matrix(y_test, y_pred)\n",
    "plt.figure(figsize = (12, 10))\n",
    "cm = pd.DataFrame(cm , index = [i for i in encoder.categories_] , columns = [i for i in encoder.categories_])\n",
    "sns.heatmap(cm, linecolor='white', cmap='Purples', linewidth=1, annot=True, fmt='')\n",
    "plt.title('Confusion Matrix', size=20)\n",
    "plt.xlabel('Predicted Labels', size=14)\n",
    "plt.ylabel('Actual Labels', size=14)\n",
    "plt.show()"
   ]
  },
  {
   "cell_type": "code",
   "execution_count": 76,
   "id": "3b3d5ff8",
   "metadata": {
    "colab": {
     "base_uri": "https://localhost:8080/"
    },
    "execution": {
     "iopub.execute_input": "2024-03-29T03:32:00.069247Z",
     "iopub.status.busy": "2024-03-29T03:32:00.068460Z",
     "iopub.status.idle": "2024-03-29T03:32:00.128695Z",
     "shell.execute_reply": "2024-03-29T03:32:00.127536Z"
    },
    "id": "3b3d5ff8",
    "outputId": "e5c7c4ca-abfd-4303-997f-336cc58b30c8",
    "papermill": {
     "duration": 0.37382,
     "end_time": "2024-03-29T03:32:00.131275",
     "exception": false,
     "start_time": "2024-03-29T03:31:59.757455",
     "status": "completed"
    },
    "tags": []
   },
   "outputs": [
    {
     "name": "stdout",
     "output_type": "stream",
     "text": [
      "              precision    recall  f1-score   support\n",
      "\n",
      "       angry       0.75      0.77      0.76       139\n",
      "     disgust       0.78      0.70      0.74       144\n",
      "        fear       0.80      0.75      0.77       139\n",
      "       happy       0.65      0.73      0.69       144\n",
      "     neutral       0.84      0.93      0.88       230\n",
      "         sad       0.77      0.71      0.74       140\n",
      "    surprise       0.81      0.75      0.78       144\n",
      "\n",
      "    accuracy                           0.78      1080\n",
      "   macro avg       0.77      0.76      0.77      1080\n",
      "weighted avg       0.78      0.78      0.78      1080\n",
      "\n"
     ]
    }
   ],
   "source": [
    "print(classification_report(y_test, y_pred))"
   ]
  },
  {
   "cell_type": "code",
   "execution_count": 77,
   "id": "vG5pHpk5Pix_",
   "metadata": {
    "colab": {
     "base_uri": "https://localhost:8080/"
    },
    "id": "vG5pHpk5Pix_",
    "outputId": "2eea4cd7-b0fa-4a37-9230-775afc80b901"
   },
   "outputs": [
    {
     "name": "stderr",
     "output_type": "stream",
     "text": [
      "/usr/local/lib/python3.10/dist-packages/keras/src/engine/training.py:3103: UserWarning: You are saving your model as an HDF5 file via `model.save()`. This file format is considered legacy. We recommend using instead the native Keras format, e.g. `model.save('my_model.keras')`.\n",
      "  saving_api.save_model(\n"
     ]
    }
   ],
   "source": [
    "from tensorflow.keras.models import save_model\n",
    "\n",
    "model.save(\"model.h5\")"
   ]
  }
 ],
 "metadata": {
  "accelerator": "GPU",
  "colab": {
   "gpuType": "T4",
   "provenance": []
  },
  "kaggle": {
   "accelerator": "none",
   "dataSources": [
    {
     "datasetId": 107620,
     "sourceId": 256618,
     "sourceType": "datasetVersion"
    }
   ],
   "dockerImageVersionId": 30674,
   "isGpuEnabled": false,
   "isInternetEnabled": true,
   "language": "python",
   "sourceType": "notebook"
  },
  "kernelspec": {
   "display_name": "Python 3 (ipykernel)",
   "language": "python",
   "name": "python3"
  },
  "language_info": {
   "codemirror_mode": {
    "name": "ipython",
    "version": 3
   },
   "file_extension": ".py",
   "mimetype": "text/x-python",
   "name": "python",
   "nbconvert_exporter": "python",
   "pygments_lexer": "ipython3",
   "version": "3.10.10"
  },
  "papermill": {
   "default_parameters": {},
   "duration": 1052.963631,
   "end_time": "2024-03-29T03:32:04.047193",
   "environment_variables": {},
   "exception": null,
   "input_path": "__notebook__.ipynb",
   "output_path": "__notebook__.ipynb",
   "parameters": {},
   "start_time": "2024-03-29T03:14:31.083562",
   "version": "2.5.0"
  }
 },
 "nbformat": 4,
 "nbformat_minor": 5
}
